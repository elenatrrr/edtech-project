{
 "cells": [
  {
   "cell_type": "markdown",
   "metadata": {},
   "source": [
    "### <font color=\"orange\">Edtech: описание кейса</font>"
   ]
  },
  {
   "cell_type": "markdown",
   "metadata": {},
   "source": [
    "📝 В ходе тестирования одной гипотезы целевой группе была предложена новая механика оплаты услуг на сайте, у контрольной группы оставалась базовая механика. Эксперимент проводился с помощью A/B–тестирования.\n",
    "\n",
    "**Задача: проанализировать итоги эксперимента и сделать вывод, стоит ли запускать новую механику оплаты на всех пользователей.**  \n",
    "\n",
    "Предлагается ответить на следующие вопросы:  \n",
    "\n",
    "1. На какие метрики вы смотрите в ходе анализа и почему?\n",
    "2. Имеются ли различия в показателях и с чем они могут быть связаны?\n",
    "3. Являются ли эти различия статистически значимыми?\n",
    "4. Стоит ли запускать новую механику на всех пользователей?\n",
    "\n",
    "\n",
    "**Дополнительные задачи:**\n",
    "1. Реализовать функцию, которая будет автоматически подгружать информацию из доп. файла и на основании доп. параметров пересчитывать метрики.\n",
    "2. Реализовать функцию, которая будет строить графики по получаемым метрикам."
   ]
  },
  {
   "cell_type": "markdown",
   "metadata": {},
   "source": [
    "### <font color=\"orange\">Edtech: решение кейса</font>"
   ]
  },
  {
   "cell_type": "markdown",
   "metadata": {},
   "source": [
    "**Ознакомимся с файлами для загрузки (файлы хранятся на Яндекс.Диске):**\n",
    "\n",
    "<font color=\"blue\">**groups.csv**</font> – файл с данными о принадлежности пользователя к группе (А – контрольная, B – целевая)    \n",
    "<font color=\"blue\">**groups_add.csv**</font> – доп. файл с пользователями, который прислали спустя 2 дня после передачи данных  \n",
    "<font color=\"blue\">**active_studs.csv**</font> – файл с информацией о пользователях, которые зашли на платформу в дни проведения эксперимента  \n",
    "<font color=\"blue\">**checks.csv**</font> – файл с информацией об оплатах пользователей в дни проведения эксперимента  \n"
   ]
  },
  {
   "cell_type": "markdown",
   "metadata": {},
   "source": [
    "### Задание 1. A/B–тестирование"
   ]
  },
  {
   "cell_type": "markdown",
   "metadata": {},
   "source": [
    "**EDA**"
   ]
  },
  {
   "cell_type": "markdown",
   "metadata": {},
   "source": [
    "#### Настройка API подключения и загрузка данных"
   ]
  },
  {
   "cell_type": "code",
   "execution_count": 107,
   "metadata": {},
   "outputs": [],
   "source": [
    "# Импортируем необходимые библиотеки\n",
    "import pandas as pd\n",
    "import numpy as np\n",
    "\n",
    "import matplotlib.pyplot as plt\n",
    "import seaborn as sns\n",
    "sns.set(rc={'figure.figsize':(10,4)}, style=\"whitegrid\")\n",
    "\n",
    "import scipy.stats as st\n",
    "import pingouin as pg\n",
    "\n",
    "import requests\n",
    "from urllib.parse import urlencode"
   ]
  },
  {
   "cell_type": "code",
   "execution_count": 8,
   "metadata": {},
   "outputs": [],
   "source": [
    "# Напишем функцию для чтения файлов с Яндекс-диска и получим загрузочные ссылки\n",
    "def func_for_download_url(public_key_for_table, base_url='https://cloud-api.yandex.net/v1/disk/public/resources/download?'):\n",
    "    final_url = base_url + urlencode(dict(public_key=public_key_for_table))\n",
    "    response = requests.get(final_url)\n",
    "    return response.json()['href']\n",
    "\n",
    "download_url_groups        = func_for_download_url('https://disk.yandex.ru/d/UhyYx41rTt3clQ')\n",
    "download_url_groups_add    = func_for_download_url('https://disk.yandex.ru/d/5Kxrz02m3IBUwQ')\n",
    "download_url_active_studs  = func_for_download_url('https://disk.yandex.ru/d/Tbs44Bm6H_FwFQ')\n",
    "download_url_checks        = func_for_download_url('https://disk.yandex.ru/d/pH1q-VqcxXjsVA')"
   ]
  },
  {
   "cell_type": "code",
   "execution_count": 9,
   "metadata": {},
   "outputs": [],
   "source": [
    "# Создаем датафреймы\n",
    "# принадлежность пользователя к контрольной или экспериментальной группе (основной файл)\n",
    "groups = pd.read_csv(download_url_groups, sep=';')\n",
    "\n",
    "# принадлежность пользователя к контрольной или экспериментальной группе (доп. файл)\n",
    "groups_add = pd.read_csv(download_url_groups_add)\n",
    "\n",
    "# информация о пользователях, которые зашли на платформу в дни проведения эксперимента\n",
    "active_studs = pd.read_csv(download_url_active_studs)\n",
    "\n",
    "# информация об оплатах пользователей в дни проведения эксперимента\n",
    "checks = pd.read_csv(download_url_checks, sep=';')"
   ]
  },
  {
   "cell_type": "markdown",
   "metadata": {},
   "source": [
    "#### groups"
   ]
  },
  {
   "cell_type": "code",
   "execution_count": 11,
   "metadata": {},
   "outputs": [
    {
     "data": {
      "text/html": [
       "<div>\n",
       "<style scoped>\n",
       "    .dataframe tbody tr th:only-of-type {\n",
       "        vertical-align: middle;\n",
       "    }\n",
       "\n",
       "    .dataframe tbody tr th {\n",
       "        vertical-align: top;\n",
       "    }\n",
       "\n",
       "    .dataframe thead th {\n",
       "        text-align: right;\n",
       "    }\n",
       "</style>\n",
       "<table border=\"1\" class=\"dataframe\">\n",
       "  <thead>\n",
       "    <tr style=\"text-align: right;\">\n",
       "      <th></th>\n",
       "      <th>id</th>\n",
       "      <th>grp</th>\n",
       "    </tr>\n",
       "  </thead>\n",
       "  <tbody>\n",
       "    <tr>\n",
       "      <th>0</th>\n",
       "      <td>1489</td>\n",
       "      <td>B</td>\n",
       "    </tr>\n",
       "    <tr>\n",
       "      <th>1</th>\n",
       "      <td>1627</td>\n",
       "      <td>A</td>\n",
       "    </tr>\n",
       "    <tr>\n",
       "      <th>2</th>\n",
       "      <td>1768</td>\n",
       "      <td>B</td>\n",
       "    </tr>\n",
       "  </tbody>\n",
       "</table>\n",
       "</div>"
      ],
      "text/plain": [
       "     id grp\n",
       "0  1489   B\n",
       "1  1627   A\n",
       "2  1768   B"
      ]
     },
     "execution_count": 11,
     "metadata": {},
     "output_type": "execute_result"
    }
   ],
   "source": [
    "# А – контроль, B – целевая группа\n",
    "groups.head(3)"
   ]
  },
  {
   "cell_type": "code",
   "execution_count": 12,
   "metadata": {},
   "outputs": [
    {
     "name": "stdout",
     "output_type": "stream",
     "text": [
      "<class 'pandas.core.frame.DataFrame'>\n",
      "RangeIndex: 74484 entries, 0 to 74483\n",
      "Data columns (total 2 columns):\n",
      " #   Column  Non-Null Count  Dtype \n",
      "---  ------  --------------  ----- \n",
      " 0   id      74484 non-null  int64 \n",
      " 1   grp     74484 non-null  object\n",
      "dtypes: int64(1), object(1)\n",
      "memory usage: 1.1+ MB\n"
     ]
    }
   ],
   "source": [
    "# Проверяем размер df, тип данных и наличие пустых значений\n",
    "groups.info()"
   ]
  },
  {
   "cell_type": "code",
   "execution_count": 13,
   "metadata": {},
   "outputs": [
    {
     "data": {
      "text/html": [
       "<div>\n",
       "<style scoped>\n",
       "    .dataframe tbody tr th:only-of-type {\n",
       "        vertical-align: middle;\n",
       "    }\n",
       "\n",
       "    .dataframe tbody tr th {\n",
       "        vertical-align: top;\n",
       "    }\n",
       "\n",
       "    .dataframe thead th {\n",
       "        text-align: right;\n",
       "    }\n",
       "</style>\n",
       "<table border=\"1\" class=\"dataframe\">\n",
       "  <thead>\n",
       "    <tr style=\"text-align: right;\">\n",
       "      <th></th>\n",
       "      <th>id</th>\n",
       "      <th>grp</th>\n",
       "    </tr>\n",
       "  </thead>\n",
       "  <tbody>\n",
       "  </tbody>\n",
       "</table>\n",
       "</div>"
      ],
      "text/plain": [
       "Empty DataFrame\n",
       "Columns: [id, grp]\n",
       "Index: []"
      ]
     },
     "execution_count": 13,
     "metadata": {},
     "output_type": "execute_result"
    }
   ],
   "source": [
    "# Проверяем наличие дубликатов\n",
    "groups.loc[groups.duplicated()]"
   ]
  },
  {
   "cell_type": "code",
   "execution_count": 14,
   "metadata": {},
   "outputs": [
    {
     "data": {
      "text/plain": [
       "id     74484\n",
       "grp        2\n",
       "dtype: int64"
      ]
     },
     "execution_count": 14,
     "metadata": {},
     "output_type": "execute_result"
    }
   ],
   "source": [
    "# Проверяем уникальность \n",
    "groups.nunique()"
   ]
  },
  {
   "cell_type": "code",
   "execution_count": 17,
   "metadata": {},
   "outputs": [
    {
     "data": {
      "text/plain": [
       "id     object\n",
       "grp    object\n",
       "dtype: object"
      ]
     },
     "execution_count": 17,
     "metadata": {},
     "output_type": "execute_result"
    }
   ],
   "source": [
    "# Переводим в строковый тип данных поле с id\n",
    "groups['id'] = groups['id'].astype(str)\n",
    "groups.dtypes"
   ]
  },
  {
   "cell_type": "markdown",
   "metadata": {},
   "source": [
    "#### groups_add"
   ]
  },
  {
   "cell_type": "code",
   "execution_count": 19,
   "metadata": {},
   "outputs": [
    {
     "data": {
      "text/html": [
       "<div>\n",
       "<style scoped>\n",
       "    .dataframe tbody tr th:only-of-type {\n",
       "        vertical-align: middle;\n",
       "    }\n",
       "\n",
       "    .dataframe tbody tr th {\n",
       "        vertical-align: top;\n",
       "    }\n",
       "\n",
       "    .dataframe thead th {\n",
       "        text-align: right;\n",
       "    }\n",
       "</style>\n",
       "<table border=\"1\" class=\"dataframe\">\n",
       "  <thead>\n",
       "    <tr style=\"text-align: right;\">\n",
       "      <th></th>\n",
       "      <th>id</th>\n",
       "      <th>grp</th>\n",
       "    </tr>\n",
       "  </thead>\n",
       "  <tbody>\n",
       "    <tr>\n",
       "      <th>0</th>\n",
       "      <td>5694584</td>\n",
       "      <td>B</td>\n",
       "    </tr>\n",
       "    <tr>\n",
       "      <th>1</th>\n",
       "      <td>5694830</td>\n",
       "      <td>B</td>\n",
       "    </tr>\n",
       "    <tr>\n",
       "      <th>2</th>\n",
       "      <td>5695057</td>\n",
       "      <td>B</td>\n",
       "    </tr>\n",
       "  </tbody>\n",
       "</table>\n",
       "</div>"
      ],
      "text/plain": [
       "        id grp\n",
       "0  5694584   B\n",
       "1  5694830   B\n",
       "2  5695057   B"
      ]
     },
     "execution_count": 19,
     "metadata": {},
     "output_type": "execute_result"
    }
   ],
   "source": [
    "# А – контроль, B – целевая группа\n",
    "groups_add.head(3)"
   ]
  },
  {
   "cell_type": "code",
   "execution_count": 20,
   "metadata": {},
   "outputs": [
    {
     "name": "stdout",
     "output_type": "stream",
     "text": [
      "<class 'pandas.core.frame.DataFrame'>\n",
      "RangeIndex: 92 entries, 0 to 91\n",
      "Data columns (total 2 columns):\n",
      " #   Column  Non-Null Count  Dtype \n",
      "---  ------  --------------  ----- \n",
      " 0   id      92 non-null     int64 \n",
      " 1   grp     92 non-null     object\n",
      "dtypes: int64(1), object(1)\n",
      "memory usage: 1.6+ KB\n"
     ]
    }
   ],
   "source": [
    "# Проверяем размер df, тип данных и наличие пустых значений\n",
    "groups_add.info()"
   ]
  },
  {
   "cell_type": "code",
   "execution_count": 21,
   "metadata": {},
   "outputs": [
    {
     "data": {
      "text/html": [
       "<div>\n",
       "<style scoped>\n",
       "    .dataframe tbody tr th:only-of-type {\n",
       "        vertical-align: middle;\n",
       "    }\n",
       "\n",
       "    .dataframe tbody tr th {\n",
       "        vertical-align: top;\n",
       "    }\n",
       "\n",
       "    .dataframe thead th {\n",
       "        text-align: right;\n",
       "    }\n",
       "</style>\n",
       "<table border=\"1\" class=\"dataframe\">\n",
       "  <thead>\n",
       "    <tr style=\"text-align: right;\">\n",
       "      <th></th>\n",
       "      <th>id</th>\n",
       "      <th>grp</th>\n",
       "    </tr>\n",
       "  </thead>\n",
       "  <tbody>\n",
       "  </tbody>\n",
       "</table>\n",
       "</div>"
      ],
      "text/plain": [
       "Empty DataFrame\n",
       "Columns: [id, grp]\n",
       "Index: []"
      ]
     },
     "execution_count": 21,
     "metadata": {},
     "output_type": "execute_result"
    }
   ],
   "source": [
    "# Проверяем наличие дубликатов\n",
    "groups_add.loc[groups_add.duplicated()]"
   ]
  },
  {
   "cell_type": "code",
   "execution_count": 22,
   "metadata": {},
   "outputs": [
    {
     "data": {
      "text/plain": [
       "id     92\n",
       "grp     2\n",
       "dtype: int64"
      ]
     },
     "execution_count": 22,
     "metadata": {},
     "output_type": "execute_result"
    }
   ],
   "source": [
    "# Проверяем уникальность \n",
    "groups_add.nunique()"
   ]
  },
  {
   "cell_type": "code",
   "execution_count": 23,
   "metadata": {},
   "outputs": [
    {
     "data": {
      "text/plain": [
       "id     object\n",
       "grp    object\n",
       "dtype: object"
      ]
     },
     "execution_count": 23,
     "metadata": {},
     "output_type": "execute_result"
    }
   ],
   "source": [
    "# Переводим в строковый тип данных поле с id\n",
    "groups_add['id'] = groups_add['id'].astype(str)\n",
    "groups_add.dtypes"
   ]
  },
  {
   "cell_type": "markdown",
   "metadata": {},
   "source": [
    "#### active_studs"
   ]
  },
  {
   "cell_type": "code",
   "execution_count": 28,
   "metadata": {},
   "outputs": [
    {
     "data": {
      "text/html": [
       "<div>\n",
       "<style scoped>\n",
       "    .dataframe tbody tr th:only-of-type {\n",
       "        vertical-align: middle;\n",
       "    }\n",
       "\n",
       "    .dataframe tbody tr th {\n",
       "        vertical-align: top;\n",
       "    }\n",
       "\n",
       "    .dataframe thead th {\n",
       "        text-align: right;\n",
       "    }\n",
       "</style>\n",
       "<table border=\"1\" class=\"dataframe\">\n",
       "  <thead>\n",
       "    <tr style=\"text-align: right;\">\n",
       "      <th></th>\n",
       "      <th>student_id</th>\n",
       "    </tr>\n",
       "  </thead>\n",
       "  <tbody>\n",
       "    <tr>\n",
       "      <th>0</th>\n",
       "      <td>581585</td>\n",
       "    </tr>\n",
       "    <tr>\n",
       "      <th>1</th>\n",
       "      <td>5723133</td>\n",
       "    </tr>\n",
       "    <tr>\n",
       "      <th>2</th>\n",
       "      <td>3276743</td>\n",
       "    </tr>\n",
       "  </tbody>\n",
       "</table>\n",
       "</div>"
      ],
      "text/plain": [
       "   student_id\n",
       "0      581585\n",
       "1     5723133\n",
       "2     3276743"
      ]
     },
     "execution_count": 28,
     "metadata": {},
     "output_type": "execute_result"
    }
   ],
   "source": [
    "active_studs.head(3)"
   ]
  },
  {
   "cell_type": "code",
   "execution_count": 29,
   "metadata": {},
   "outputs": [
    {
     "name": "stdout",
     "output_type": "stream",
     "text": [
      "<class 'pandas.core.frame.DataFrame'>\n",
      "RangeIndex: 8341 entries, 0 to 8340\n",
      "Data columns (total 1 columns):\n",
      " #   Column      Non-Null Count  Dtype\n",
      "---  ------      --------------  -----\n",
      " 0   student_id  8341 non-null   int64\n",
      "dtypes: int64(1)\n",
      "memory usage: 65.3 KB\n"
     ]
    }
   ],
   "source": [
    "# Проверяем размер df, тип данных, уникальность, наличие пустых значений\n",
    "active_studs.info()"
   ]
  },
  {
   "cell_type": "code",
   "execution_count": 30,
   "metadata": {},
   "outputs": [
    {
     "data": {
      "text/plain": [
       "student_id    8341\n",
       "dtype: int64"
      ]
     },
     "execution_count": 30,
     "metadata": {},
     "output_type": "execute_result"
    }
   ],
   "source": [
    "active_studs.nunique()"
   ]
  },
  {
   "cell_type": "code",
   "execution_count": 31,
   "metadata": {},
   "outputs": [
    {
     "data": {
      "text/plain": [
       "student_id    object\n",
       "dtype: object"
      ]
     },
     "execution_count": 31,
     "metadata": {},
     "output_type": "execute_result"
    }
   ],
   "source": [
    "# Переводим в строковый тип данных поле с id\n",
    "active_studs['student_id'] = active_studs['student_id'].astype(str)\n",
    "active_studs.dtypes"
   ]
  },
  {
   "cell_type": "markdown",
   "metadata": {},
   "source": [
    "####  checks"
   ]
  },
  {
   "cell_type": "code",
   "execution_count": 32,
   "metadata": {},
   "outputs": [
    {
     "data": {
      "text/html": [
       "<div>\n",
       "<style scoped>\n",
       "    .dataframe tbody tr th:only-of-type {\n",
       "        vertical-align: middle;\n",
       "    }\n",
       "\n",
       "    .dataframe tbody tr th {\n",
       "        vertical-align: top;\n",
       "    }\n",
       "\n",
       "    .dataframe thead th {\n",
       "        text-align: right;\n",
       "    }\n",
       "</style>\n",
       "<table border=\"1\" class=\"dataframe\">\n",
       "  <thead>\n",
       "    <tr style=\"text-align: right;\">\n",
       "      <th></th>\n",
       "      <th>student_id</th>\n",
       "      <th>rev</th>\n",
       "    </tr>\n",
       "  </thead>\n",
       "  <tbody>\n",
       "    <tr>\n",
       "      <th>0</th>\n",
       "      <td>1627</td>\n",
       "      <td>990.0</td>\n",
       "    </tr>\n",
       "    <tr>\n",
       "      <th>1</th>\n",
       "      <td>3185</td>\n",
       "      <td>690.0</td>\n",
       "    </tr>\n",
       "    <tr>\n",
       "      <th>2</th>\n",
       "      <td>25973</td>\n",
       "      <td>690.0</td>\n",
       "    </tr>\n",
       "  </tbody>\n",
       "</table>\n",
       "</div>"
      ],
      "text/plain": [
       "   student_id    rev\n",
       "0        1627  990.0\n",
       "1        3185  690.0\n",
       "2       25973  690.0"
      ]
     },
     "execution_count": 32,
     "metadata": {},
     "output_type": "execute_result"
    }
   ],
   "source": [
    "checks.head(3)"
   ]
  },
  {
   "cell_type": "code",
   "execution_count": 33,
   "metadata": {},
   "outputs": [
    {
     "name": "stdout",
     "output_type": "stream",
     "text": [
      "<class 'pandas.core.frame.DataFrame'>\n",
      "RangeIndex: 541 entries, 0 to 540\n",
      "Data columns (total 2 columns):\n",
      " #   Column      Non-Null Count  Dtype  \n",
      "---  ------      --------------  -----  \n",
      " 0   student_id  541 non-null    int64  \n",
      " 1   rev         541 non-null    float64\n",
      "dtypes: float64(1), int64(1)\n",
      "memory usage: 8.6 KB\n"
     ]
    }
   ],
   "source": [
    "# Проверяем размер df, тип данных, уникальность, наличие пустых значений\n",
    "checks.info()"
   ]
  },
  {
   "cell_type": "code",
   "execution_count": 34,
   "metadata": {},
   "outputs": [
    {
     "data": {
      "text/plain": [
       "student_id    541\n",
       "rev            39\n",
       "dtype: int64"
      ]
     },
     "execution_count": 34,
     "metadata": {},
     "output_type": "execute_result"
    }
   ],
   "source": [
    "checks.nunique()"
   ]
  },
  {
   "cell_type": "code",
   "execution_count": 35,
   "metadata": {},
   "outputs": [],
   "source": [
    "# Переводим в строковый тип данных поле с id\n",
    "checks['student_id'] = checks['student_id'].astype(str)"
   ]
  },
  {
   "cell_type": "code",
   "execution_count": 37,
   "metadata": {},
   "outputs": [
    {
     "data": {
      "text/html": [
       "<div>\n",
       "<style scoped>\n",
       "    .dataframe tbody tr th:only-of-type {\n",
       "        vertical-align: middle;\n",
       "    }\n",
       "\n",
       "    .dataframe tbody tr th {\n",
       "        vertical-align: top;\n",
       "    }\n",
       "\n",
       "    .dataframe thead th {\n",
       "        text-align: right;\n",
       "    }\n",
       "</style>\n",
       "<table border=\"1\" class=\"dataframe\">\n",
       "  <thead>\n",
       "    <tr style=\"text-align: right;\">\n",
       "      <th></th>\n",
       "      <th>rev</th>\n",
       "    </tr>\n",
       "  </thead>\n",
       "  <tbody>\n",
       "    <tr>\n",
       "      <th>count</th>\n",
       "      <td>541.000000</td>\n",
       "    </tr>\n",
       "    <tr>\n",
       "      <th>mean</th>\n",
       "      <td>1059.752317</td>\n",
       "    </tr>\n",
       "    <tr>\n",
       "      <th>std</th>\n",
       "      <td>762.712359</td>\n",
       "    </tr>\n",
       "    <tr>\n",
       "      <th>min</th>\n",
       "      <td>199.000000</td>\n",
       "    </tr>\n",
       "    <tr>\n",
       "      <th>25%</th>\n",
       "      <td>290.000000</td>\n",
       "    </tr>\n",
       "    <tr>\n",
       "      <th>50%</th>\n",
       "      <td>840.000000</td>\n",
       "    </tr>\n",
       "    <tr>\n",
       "      <th>75%</th>\n",
       "      <td>1900.000000</td>\n",
       "    </tr>\n",
       "    <tr>\n",
       "      <th>max</th>\n",
       "      <td>4650.000000</td>\n",
       "    </tr>\n",
       "  </tbody>\n",
       "</table>\n",
       "</div>"
      ],
      "text/plain": [
       "               rev\n",
       "count   541.000000\n",
       "mean   1059.752317\n",
       "std     762.712359\n",
       "min     199.000000\n",
       "25%     290.000000\n",
       "50%     840.000000\n",
       "75%    1900.000000\n",
       "max    4650.000000"
      ]
     },
     "execution_count": 37,
     "metadata": {},
     "output_type": "execute_result"
    }
   ],
   "source": [
    "# Посмотрим на описательные статистики колонки с выручкой\n",
    "checks.describe()"
   ]
  },
  {
   "cell_type": "code",
   "execution_count": 38,
   "metadata": {},
   "outputs": [
    {
     "data": {
      "text/plain": [
       "1900.0000    97\n",
       "290.0000     94\n",
       "690.0000     78\n",
       "199.0000     46\n",
       "990.0000     41\n",
       "1900.0001    36\n",
       "840.0000     27\n",
       "1140.0000    25\n",
       "580.0000     15\n",
       "590.0000     11\n",
       "398.0000      9\n",
       "1530.0000     8\n",
       "870.0000      6\n",
       "3660.0000     5\n",
       "1980.0000     4\n",
       "2890.0000     4\n",
       "2910.0000     4\n",
       "489.0000      3\n",
       "1160.0000     3\n",
       "2099.0000     3\n",
       "2820.0000     2\n",
       "1180.0000     2\n",
       "2220.0000     2\n",
       "2900.0000     1\n",
       "1830.0000     1\n",
       "597.0000      1\n",
       "1339.0000     1\n",
       "1968.0000     1\n",
       "1050.0000     1\n",
       "630.0000      1\n",
       "1729.0000     1\n",
       "1388.0000     1\n",
       "2190.0000     1\n",
       "4650.0000     1\n",
       "796.0000      1\n",
       "3040.0000     1\n",
       "880.0000      1\n",
       "3260.0000     1\n",
       "1039.0000     1\n",
       "Name: rev, dtype: int64"
      ]
     },
     "execution_count": 38,
     "metadata": {},
     "output_type": "execute_result"
    }
   ],
   "source": [
    "# Посмотрим, какие данные содержатся в колонке с выручкой\n",
    "checks.rev.value_counts()"
   ]
  },
  {
   "cell_type": "code",
   "execution_count": 39,
   "metadata": {},
   "outputs": [
    {
     "name": "stdout",
     "output_type": "stream",
     "text": [
      "['0' '0001']\n"
     ]
    }
   ],
   "source": [
    "# Посмотрим на дробную часть чисел, хранящихся в колонке rev\n",
    "print(checks.rev.apply(lambda x: str(x).split('.')[-1]).unique()) "
   ]
  },
  {
   "cell_type": "code",
   "execution_count": 40,
   "metadata": {},
   "outputs": [],
   "source": [
    "# Приведем данные в колонке rev в формат int\n",
    "checks['rev'] = checks['rev'].astype(int)"
   ]
  },
  {
   "cell_type": "code",
   "execution_count": 41,
   "metadata": {},
   "outputs": [
    {
     "data": {
      "text/plain": [
       "student_id    object\n",
       "rev            int32\n",
       "dtype: object"
      ]
     },
     "execution_count": 41,
     "metadata": {},
     "output_type": "execute_result"
    }
   ],
   "source": [
    "checks.dtypes"
   ]
  },
  {
   "cell_type": "code",
   "execution_count": 43,
   "metadata": {},
   "outputs": [
    {
     "data": {
      "text/plain": [
       "student_id    541\n",
       "rev            38\n",
       "dtype: int64"
      ]
     },
     "execution_count": 43,
     "metadata": {},
     "output_type": "execute_result"
    }
   ],
   "source": [
    "checks.nunique()"
   ]
  },
  {
   "cell_type": "markdown",
   "metadata": {},
   "source": [
    "#### groups & groups_add  & active_studs & checks"
   ]
  },
  {
   "cell_type": "code",
   "execution_count": 49,
   "metadata": {},
   "outputs": [
    {
     "data": {
      "text/plain": [
       "set()"
      ]
     },
     "execution_count": 49,
     "metadata": {},
     "output_type": "execute_result"
    }
   ],
   "source": [
    "# Проверим, нет ли пересечений по id в основном и дополнительном df\n",
    "set(groups.id).intersection(groups_add.id)"
   ]
  },
  {
   "cell_type": "code",
   "execution_count": 50,
   "metadata": {},
   "outputs": [
    {
     "data": {
      "text/html": [
       "<div>\n",
       "<style scoped>\n",
       "    .dataframe tbody tr th:only-of-type {\n",
       "        vertical-align: middle;\n",
       "    }\n",
       "\n",
       "    .dataframe tbody tr th {\n",
       "        vertical-align: top;\n",
       "    }\n",
       "\n",
       "    .dataframe thead th {\n",
       "        text-align: right;\n",
       "    }\n",
       "</style>\n",
       "<table border=\"1\" class=\"dataframe\">\n",
       "  <thead>\n",
       "    <tr style=\"text-align: right;\">\n",
       "      <th></th>\n",
       "      <th>id</th>\n",
       "      <th>grp</th>\n",
       "    </tr>\n",
       "  </thead>\n",
       "  <tbody>\n",
       "    <tr>\n",
       "      <th>0</th>\n",
       "      <td>1489</td>\n",
       "      <td>B</td>\n",
       "    </tr>\n",
       "    <tr>\n",
       "      <th>1</th>\n",
       "      <td>1627</td>\n",
       "      <td>A</td>\n",
       "    </tr>\n",
       "    <tr>\n",
       "      <th>2</th>\n",
       "      <td>1768</td>\n",
       "      <td>B</td>\n",
       "    </tr>\n",
       "    <tr>\n",
       "      <th>3</th>\n",
       "      <td>1783</td>\n",
       "      <td>B</td>\n",
       "    </tr>\n",
       "    <tr>\n",
       "      <th>4</th>\n",
       "      <td>1794</td>\n",
       "      <td>A</td>\n",
       "    </tr>\n",
       "    <tr>\n",
       "      <th>...</th>\n",
       "      <td>...</td>\n",
       "      <td>...</td>\n",
       "    </tr>\n",
       "    <tr>\n",
       "      <th>74571</th>\n",
       "      <td>200247820</td>\n",
       "      <td>B</td>\n",
       "    </tr>\n",
       "    <tr>\n",
       "      <th>74572</th>\n",
       "      <td>201032527</td>\n",
       "      <td>B</td>\n",
       "    </tr>\n",
       "    <tr>\n",
       "      <th>74573</th>\n",
       "      <td>201067612</td>\n",
       "      <td>B</td>\n",
       "    </tr>\n",
       "    <tr>\n",
       "      <th>74574</th>\n",
       "      <td>201067653</td>\n",
       "      <td>B</td>\n",
       "    </tr>\n",
       "    <tr>\n",
       "      <th>74575</th>\n",
       "      <td>201067659</td>\n",
       "      <td>B</td>\n",
       "    </tr>\n",
       "  </tbody>\n",
       "</table>\n",
       "<p>74576 rows × 2 columns</p>\n",
       "</div>"
      ],
      "text/plain": [
       "              id grp\n",
       "0           1489   B\n",
       "1           1627   A\n",
       "2           1768   B\n",
       "3           1783   B\n",
       "4           1794   A\n",
       "...          ...  ..\n",
       "74571  200247820   B\n",
       "74572  201032527   B\n",
       "74573  201067612   B\n",
       "74574  201067653   B\n",
       "74575  201067659   B\n",
       "\n",
       "[74576 rows x 2 columns]"
      ]
     },
     "execution_count": 50,
     "metadata": {},
     "output_type": "execute_result"
    }
   ],
   "source": [
    "# Объединим df groups & groups_add\n",
    "groups_all = pd.concat([groups, groups_add], ignore_index=True)\n",
    "groups_all"
   ]
  },
  {
   "cell_type": "code",
   "execution_count": 51,
   "metadata": {},
   "outputs": [
    {
     "data": {
      "text/html": [
       "<div>\n",
       "<style scoped>\n",
       "    .dataframe tbody tr th:only-of-type {\n",
       "        vertical-align: middle;\n",
       "    }\n",
       "\n",
       "    .dataframe tbody tr th {\n",
       "        vertical-align: top;\n",
       "    }\n",
       "\n",
       "    .dataframe thead th {\n",
       "        text-align: right;\n",
       "    }\n",
       "</style>\n",
       "<table border=\"1\" class=\"dataframe\">\n",
       "  <thead>\n",
       "    <tr style=\"text-align: right;\">\n",
       "      <th></th>\n",
       "      <th>id</th>\n",
       "      <th>grp</th>\n",
       "      <th>status</th>\n",
       "    </tr>\n",
       "  </thead>\n",
       "  <tbody>\n",
       "    <tr>\n",
       "      <th>74573</th>\n",
       "      <td>201067612</td>\n",
       "      <td>B</td>\n",
       "      <td>NaN</td>\n",
       "    </tr>\n",
       "    <tr>\n",
       "      <th>74574</th>\n",
       "      <td>201067653</td>\n",
       "      <td>B</td>\n",
       "      <td>NaN</td>\n",
       "    </tr>\n",
       "    <tr>\n",
       "      <th>74575</th>\n",
       "      <td>201067659</td>\n",
       "      <td>B</td>\n",
       "      <td>NaN</td>\n",
       "    </tr>\n",
       "  </tbody>\n",
       "</table>\n",
       "</div>"
      ],
      "text/plain": [
       "              id grp status\n",
       "74573  201067612   B    NaN\n",
       "74574  201067653   B    NaN\n",
       "74575  201067659   B    NaN"
      ]
     },
     "execution_count": 51,
     "metadata": {},
     "output_type": "execute_result"
    }
   ],
   "source": [
    "# Объединим df groups_all с данными о пользователях active_studs, которые зашли на платформу в дни проведения эксперимента \n",
    "groups_all = groups_all.merge(active_studs, how='left', left_on='id', right_on='student_id') \\\n",
    "                       .rename(columns={'student_id':'status'})\n",
    "groups_all.tail(3)"
   ]
  },
  {
   "cell_type": "code",
   "execution_count": 52,
   "metadata": {},
   "outputs": [
    {
     "data": {
      "text/html": [
       "<div>\n",
       "<style scoped>\n",
       "    .dataframe tbody tr th:only-of-type {\n",
       "        vertical-align: middle;\n",
       "    }\n",
       "\n",
       "    .dataframe tbody tr th {\n",
       "        vertical-align: top;\n",
       "    }\n",
       "\n",
       "    .dataframe thead th {\n",
       "        text-align: right;\n",
       "    }\n",
       "</style>\n",
       "<table border=\"1\" class=\"dataframe\">\n",
       "  <thead>\n",
       "    <tr style=\"text-align: right;\">\n",
       "      <th></th>\n",
       "      <th>id</th>\n",
       "      <th>grp</th>\n",
       "      <th>status</th>\n",
       "    </tr>\n",
       "  </thead>\n",
       "  <tbody>\n",
       "    <tr>\n",
       "      <th>74573</th>\n",
       "      <td>201067612</td>\n",
       "      <td>B</td>\n",
       "      <td>inactive</td>\n",
       "    </tr>\n",
       "    <tr>\n",
       "      <th>74574</th>\n",
       "      <td>201067653</td>\n",
       "      <td>B</td>\n",
       "      <td>inactive</td>\n",
       "    </tr>\n",
       "    <tr>\n",
       "      <th>74575</th>\n",
       "      <td>201067659</td>\n",
       "      <td>B</td>\n",
       "      <td>inactive</td>\n",
       "    </tr>\n",
       "  </tbody>\n",
       "</table>\n",
       "</div>"
      ],
      "text/plain": [
       "              id grp    status\n",
       "74573  201067612   B  inactive\n",
       "74574  201067653   B  inactive\n",
       "74575  201067659   B  inactive"
      ]
     },
     "execution_count": 52,
     "metadata": {},
     "output_type": "execute_result"
    }
   ],
   "source": [
    "# Присвоим более очевидный статус активности\n",
    "groups_all['status'] = groups_all['status'].apply(lambda x: 'inactive' if pd.isna(x) else 'active')\n",
    "groups_all.tail(3)"
   ]
  },
  {
   "cell_type": "code",
   "execution_count": 53,
   "metadata": {},
   "outputs": [
    {
     "data": {
      "text/html": [
       "<div>\n",
       "<style scoped>\n",
       "    .dataframe tbody tr th:only-of-type {\n",
       "        vertical-align: middle;\n",
       "    }\n",
       "\n",
       "    .dataframe tbody tr th {\n",
       "        vertical-align: top;\n",
       "    }\n",
       "\n",
       "    .dataframe thead th {\n",
       "        text-align: right;\n",
       "    }\n",
       "</style>\n",
       "<table border=\"1\" class=\"dataframe\">\n",
       "  <thead>\n",
       "    <tr style=\"text-align: right;\">\n",
       "      <th></th>\n",
       "      <th>id</th>\n",
       "      <th>grp</th>\n",
       "      <th>status</th>\n",
       "      <th>rev</th>\n",
       "    </tr>\n",
       "  </thead>\n",
       "  <tbody>\n",
       "    <tr>\n",
       "      <th>74573</th>\n",
       "      <td>201067612</td>\n",
       "      <td>B</td>\n",
       "      <td>inactive</td>\n",
       "      <td>NaN</td>\n",
       "    </tr>\n",
       "    <tr>\n",
       "      <th>74574</th>\n",
       "      <td>201067653</td>\n",
       "      <td>B</td>\n",
       "      <td>inactive</td>\n",
       "      <td>NaN</td>\n",
       "    </tr>\n",
       "    <tr>\n",
       "      <th>74575</th>\n",
       "      <td>201067659</td>\n",
       "      <td>B</td>\n",
       "      <td>inactive</td>\n",
       "      <td>NaN</td>\n",
       "    </tr>\n",
       "  </tbody>\n",
       "</table>\n",
       "</div>"
      ],
      "text/plain": [
       "              id grp    status  rev\n",
       "74573  201067612   B  inactive  NaN\n",
       "74574  201067653   B  inactive  NaN\n",
       "74575  201067659   B  inactive  NaN"
      ]
     },
     "execution_count": 53,
     "metadata": {},
     "output_type": "execute_result"
    }
   ],
   "source": [
    "# Подтянем из checks информацию об оплатах пользователей в дни проведения эксперимента\n",
    "groups_all = groups_all.merge(checks, how='left', left_on='id', right_on='student_id').drop(columns='student_id')\n",
    "groups_all.tail(3)"
   ]
  },
  {
   "cell_type": "code",
   "execution_count": 54,
   "metadata": {},
   "outputs": [],
   "source": [
    "# Присвоим более очевидный статус по оплатам\n",
    "groups_all['client'] = groups_all['rev'].apply(lambda x: 'without paying' if pd.isna(x) else 'paying')"
   ]
  },
  {
   "cell_type": "code",
   "execution_count": 55,
   "metadata": {},
   "outputs": [
    {
     "data": {
      "text/html": [
       "<div>\n",
       "<style scoped>\n",
       "    .dataframe tbody tr th:only-of-type {\n",
       "        vertical-align: middle;\n",
       "    }\n",
       "\n",
       "    .dataframe tbody tr th {\n",
       "        vertical-align: top;\n",
       "    }\n",
       "\n",
       "    .dataframe thead th {\n",
       "        text-align: right;\n",
       "    }\n",
       "</style>\n",
       "<table border=\"1\" class=\"dataframe\">\n",
       "  <thead>\n",
       "    <tr style=\"text-align: right;\">\n",
       "      <th></th>\n",
       "      <th>grp</th>\n",
       "      <th>users</th>\n",
       "      <th>clients</th>\n",
       "      <th>users_p</th>\n",
       "      <th>clients_p</th>\n",
       "    </tr>\n",
       "  </thead>\n",
       "  <tbody>\n",
       "    <tr>\n",
       "      <th>0</th>\n",
       "      <td>A</td>\n",
       "      <td>14693</td>\n",
       "      <td>107</td>\n",
       "      <td>19.7</td>\n",
       "      <td>19.78</td>\n",
       "    </tr>\n",
       "    <tr>\n",
       "      <th>1</th>\n",
       "      <td>B</td>\n",
       "      <td>59883</td>\n",
       "      <td>434</td>\n",
       "      <td>80.3</td>\n",
       "      <td>80.22</td>\n",
       "    </tr>\n",
       "  </tbody>\n",
       "</table>\n",
       "</div>"
      ],
      "text/plain": [
       "  grp  users  clients  users_p  clients_p\n",
       "0   A  14693      107     19.7      19.78\n",
       "1   B  59883      434     80.3      80.22"
      ]
     },
     "execution_count": 55,
     "metadata": {},
     "output_type": "execute_result"
    }
   ],
   "source": [
    "# Посмотрим на основные сводные данные: кол-во юзеров и платящих клиентов в абс. и относит. знач. по группам\n",
    "groups_all.groupby(['grp'], as_index=False) \\\n",
    "          .agg(users=('id', 'count'), clients=('rev', 'count')) \\\n",
    "          .assign(users_p=lambda x: (x.users / x.users.sum() * 100).round(2)) \\\n",
    "          .assign(clients_p=lambda x: (x.clients / x.clients.sum() * 100).round(2))    "
   ]
  },
  {
   "cell_type": "code",
   "execution_count": 56,
   "metadata": {},
   "outputs": [
    {
     "data": {
      "text/html": [
       "<div>\n",
       "<style scoped>\n",
       "    .dataframe tbody tr th:only-of-type {\n",
       "        vertical-align: middle;\n",
       "    }\n",
       "\n",
       "    .dataframe tbody tr th {\n",
       "        vertical-align: top;\n",
       "    }\n",
       "\n",
       "    .dataframe thead th {\n",
       "        text-align: right;\n",
       "    }\n",
       "</style>\n",
       "<table border=\"1\" class=\"dataframe\">\n",
       "  <thead>\n",
       "    <tr style=\"text-align: right;\">\n",
       "      <th></th>\n",
       "      <th>status</th>\n",
       "      <th>users</th>\n",
       "      <th>clients</th>\n",
       "      <th>users_d</th>\n",
       "      <th>clients_d</th>\n",
       "    </tr>\n",
       "  </thead>\n",
       "  <tbody>\n",
       "    <tr>\n",
       "      <th>0</th>\n",
       "      <td>active</td>\n",
       "      <td>1538</td>\n",
       "      <td>78</td>\n",
       "      <td>10.47</td>\n",
       "      <td>72.9</td>\n",
       "    </tr>\n",
       "    <tr>\n",
       "      <th>1</th>\n",
       "      <td>inactive</td>\n",
       "      <td>13155</td>\n",
       "      <td>29</td>\n",
       "      <td>89.53</td>\n",
       "      <td>27.1</td>\n",
       "    </tr>\n",
       "  </tbody>\n",
       "</table>\n",
       "</div>"
      ],
      "text/plain": [
       "     status  users  clients  users_d  clients_d\n",
       "0    active   1538       78    10.47       72.9\n",
       "1  inactive  13155       29    89.53       27.1"
      ]
     },
     "execution_count": 56,
     "metadata": {},
     "output_type": "execute_result"
    }
   ],
   "source": [
    "# Кол-во юзеров и платящих клиентов в абс. и относит. знач. по статусам активности в группе контроля\n",
    "groups_all.query('grp == \"A\"').groupby(['status'], as_index=False) \\\n",
    "          .agg(users=('id', 'count'), clients=('rev', 'count')) \\\n",
    "          .assign(users_d=lambda x: (x.users / x.users.sum() * 100).round(2)) \\\n",
    "          .assign(clients_d=lambda x: (x.clients / x.clients.sum() * 100).round(2))"
   ]
  },
  {
   "cell_type": "code",
   "execution_count": 57,
   "metadata": {},
   "outputs": [
    {
     "data": {
      "text/html": [
       "<div>\n",
       "<style scoped>\n",
       "    .dataframe tbody tr th:only-of-type {\n",
       "        vertical-align: middle;\n",
       "    }\n",
       "\n",
       "    .dataframe tbody tr th {\n",
       "        vertical-align: top;\n",
       "    }\n",
       "\n",
       "    .dataframe thead th {\n",
       "        text-align: right;\n",
       "    }\n",
       "</style>\n",
       "<table border=\"1\" class=\"dataframe\">\n",
       "  <thead>\n",
       "    <tr style=\"text-align: right;\">\n",
       "      <th></th>\n",
       "      <th>status</th>\n",
       "      <th>users</th>\n",
       "      <th>clients</th>\n",
       "      <th>users_d</th>\n",
       "      <th>clients_d</th>\n",
       "    </tr>\n",
       "  </thead>\n",
       "  <tbody>\n",
       "    <tr>\n",
       "      <th>0</th>\n",
       "      <td>active</td>\n",
       "      <td>6803</td>\n",
       "      <td>314</td>\n",
       "      <td>11.36</td>\n",
       "      <td>72.35</td>\n",
       "    </tr>\n",
       "    <tr>\n",
       "      <th>1</th>\n",
       "      <td>inactive</td>\n",
       "      <td>53080</td>\n",
       "      <td>120</td>\n",
       "      <td>88.64</td>\n",
       "      <td>27.65</td>\n",
       "    </tr>\n",
       "  </tbody>\n",
       "</table>\n",
       "</div>"
      ],
      "text/plain": [
       "     status  users  clients  users_d  clients_d\n",
       "0    active   6803      314    11.36      72.35\n",
       "1  inactive  53080      120    88.64      27.65"
      ]
     },
     "execution_count": 57,
     "metadata": {},
     "output_type": "execute_result"
    }
   ],
   "source": [
    "# Кол-во юзеров и платящих клиентов в абс. и относит. знач. по статусам активности в группе теста\n",
    "groups_all.query('grp == \"B\"').groupby(['status'], as_index=False) \\\n",
    "          .agg(users=('id', 'count'), clients=('rev', 'count')) \\\n",
    "          .assign(users_d=  lambda x: (x.users / x.users.sum() * 100).round(2)) \\\n",
    "          .assign(clients_d=lambda x: (x.clients / x.clients.sum() * 100).round(2))"
   ]
  },
  {
   "cell_type": "code",
   "execution_count": 59,
   "metadata": {},
   "outputs": [
    {
     "data": {
      "text/html": [
       "<div>\n",
       "<style scoped>\n",
       "    .dataframe tbody tr th:only-of-type {\n",
       "        vertical-align: middle;\n",
       "    }\n",
       "\n",
       "    .dataframe tbody tr th {\n",
       "        vertical-align: top;\n",
       "    }\n",
       "\n",
       "    .dataframe thead th {\n",
       "        text-align: right;\n",
       "    }\n",
       "</style>\n",
       "<table border=\"1\" class=\"dataframe\">\n",
       "  <thead>\n",
       "    <tr style=\"text-align: right;\">\n",
       "      <th></th>\n",
       "      <th>grp</th>\n",
       "      <th>status</th>\n",
       "      <th>users</th>\n",
       "      <th>clients</th>\n",
       "      <th>rev_total</th>\n",
       "      <th>CR</th>\n",
       "      <th>ARPU</th>\n",
       "      <th>ARPPU</th>\n",
       "    </tr>\n",
       "  </thead>\n",
       "  <tbody>\n",
       "    <tr>\n",
       "      <th>0</th>\n",
       "      <td>A</td>\n",
       "      <td>active</td>\n",
       "      <td>1538</td>\n",
       "      <td>78</td>\n",
       "      <td>72820.0</td>\n",
       "      <td>0.050715</td>\n",
       "      <td>47.347204</td>\n",
       "      <td>933.589744</td>\n",
       "    </tr>\n",
       "    <tr>\n",
       "      <th>2</th>\n",
       "      <td>B</td>\n",
       "      <td>active</td>\n",
       "      <td>6803</td>\n",
       "      <td>314</td>\n",
       "      <td>394974.0</td>\n",
       "      <td>0.046156</td>\n",
       "      <td>58.058798</td>\n",
       "      <td>1257.878981</td>\n",
       "    </tr>\n",
       "    <tr>\n",
       "      <th>1</th>\n",
       "      <td>A</td>\n",
       "      <td>inactive</td>\n",
       "      <td>13155</td>\n",
       "      <td>29</td>\n",
       "      <td>19276.0</td>\n",
       "      <td>0.002204</td>\n",
       "      <td>1.465298</td>\n",
       "      <td>664.689655</td>\n",
       "    </tr>\n",
       "    <tr>\n",
       "      <th>3</th>\n",
       "      <td>B</td>\n",
       "      <td>inactive</td>\n",
       "      <td>53080</td>\n",
       "      <td>120</td>\n",
       "      <td>86256.0</td>\n",
       "      <td>0.002261</td>\n",
       "      <td>1.625019</td>\n",
       "      <td>718.800000</td>\n",
       "    </tr>\n",
       "  </tbody>\n",
       "</table>\n",
       "</div>"
      ],
      "text/plain": [
       "  grp    status  users  clients  rev_total        CR       ARPU        ARPPU\n",
       "0   A    active   1538       78    72820.0  0.050715  47.347204   933.589744\n",
       "2   B    active   6803      314   394974.0  0.046156  58.058798  1257.878981\n",
       "1   A  inactive  13155       29    19276.0  0.002204   1.465298   664.689655\n",
       "3   B  inactive  53080      120    86256.0  0.002261   1.625019   718.800000"
      ]
     },
     "execution_count": 59,
     "metadata": {},
     "output_type": "execute_result"
    }
   ],
   "source": [
    "# Общая информация с расчетом основных показателей\n",
    "groups_summary = groups_all.groupby(['grp', 'status'], as_index=False) \\\n",
    "                           .agg(users=('id', 'count'), clients=('rev', 'count'), rev_total=('rev','sum')) \\\n",
    "                           .assign(CR=lambda x: x.clients / x.users, ARPU=lambda x: x.rev_total / x.users, \n",
    "                                   ARPPU=lambda x: x.rev_total / x.clients) \\\n",
    "                           .sort_values('status')\n",
    "groups_summary"
   ]
  },
  {
   "cell_type": "markdown",
   "metadata": {},
   "source": [
    "Кажется странным, что в обеих группах имеются пользователи, которые не заходили на платформу в дни проведения эксперимента, при этом по ним есть данные об оплатах. Вероятно, пользователи уже получали ранее ссылки на оплату (или, к примеру, сработало автопродление подписки), и для финального проведения оплаты не требовалось заходить на платформу."
   ]
  },
  {
   "cell_type": "markdown",
   "metadata": {},
   "source": [
    "### Проверка гипотез"
   ]
  },
  {
   "cell_type": "markdown",
   "metadata": {},
   "source": [
    "####  Какие метрики наиболее подходят для анализа?"
   ]
  },
  {
   "cell_type": "markdown",
   "metadata": {},
   "source": [
    "Цель A/B-теста — оценить влияние новой механики оплаты услуг на сайте. Кажется логичным, что только пользователи, которые посещали платформу в дни проведения эксперимента (status 'active'), могли взаимодействовать с изменениями и принять решение оплатить услуги на основе новой механики. Соответственно ключевыми метриками по эксперименту будем считать метрики, рассчитанные только по активным пользователям:    \n",
    "\n",
    "- конверсия в оплату\n",
    "- ARPU\n",
    "- ARPPU"
   ]
  },
  {
   "cell_type": "markdown",
   "metadata": {},
   "source": [
    "**Какие метрики не являются релевантными для задачи по оценке эффективности новой механики оплаты на сайте?**"
   ]
  },
  {
   "cell_type": "markdown",
   "metadata": {},
   "source": [
    "Те же метрики, рассчитанные также и по неактивным пользователям."
   ]
  },
  {
   "cell_type": "markdown",
   "metadata": {},
   "source": [
    "**На какие второстепенные метрики стоит обратить внимание?**\n",
    "\n",
    "- конверсия в посещаемость платформы\n",
    "\n",
    "Несмотря на то, что прямого отношения к к исследуемому вопросу эта метрика не имеет, все же стоит обратить внимание на долю активных посетителей платформы от всех пользователей по группам, чтобы понять, не сломали ли мы с помощью нововведений привычную функциональность сайта:"
   ]
  },
  {
   "cell_type": "code",
   "execution_count": 60,
   "metadata": {},
   "outputs": [
    {
     "data": {
      "text/html": [
       "<div>\n",
       "<style scoped>\n",
       "    .dataframe tbody tr th:only-of-type {\n",
       "        vertical-align: middle;\n",
       "    }\n",
       "\n",
       "    .dataframe tbody tr th {\n",
       "        vertical-align: top;\n",
       "    }\n",
       "\n",
       "    .dataframe thead th {\n",
       "        text-align: right;\n",
       "    }\n",
       "</style>\n",
       "<table border=\"1\" class=\"dataframe\">\n",
       "  <thead>\n",
       "    <tr style=\"text-align: right;\">\n",
       "      <th>grp</th>\n",
       "      <th>A</th>\n",
       "      <th>B</th>\n",
       "    </tr>\n",
       "    <tr>\n",
       "      <th>status</th>\n",
       "      <th></th>\n",
       "      <th></th>\n",
       "    </tr>\n",
       "  </thead>\n",
       "  <tbody>\n",
       "    <tr>\n",
       "      <th>active</th>\n",
       "      <td>0.1047</td>\n",
       "      <td>0.1136</td>\n",
       "    </tr>\n",
       "    <tr>\n",
       "      <th>inactive</th>\n",
       "      <td>0.8953</td>\n",
       "      <td>0.8864</td>\n",
       "    </tr>\n",
       "  </tbody>\n",
       "</table>\n",
       "</div>"
      ],
      "text/plain": [
       "grp            A       B\n",
       "status                  \n",
       "active    0.1047  0.1136\n",
       "inactive  0.8953  0.8864"
      ]
     },
     "metadata": {},
     "output_type": "display_data"
    }
   ],
   "source": [
    "display(pd.crosstab(groups_all.status, groups_all.grp, normalize='columns').round(4))"
   ]
  },
  {
   "cell_type": "markdown",
   "metadata": {},
   "source": [
    "Обратим внимание, что негативного изменения посещаемости платформы после введения новой механики оплат на сайте не произошло."
   ]
  },
  {
   "cell_type": "markdown",
   "metadata": {},
   "source": [
    "### Гипотеза 1: изменилась конверсия в оплату"
   ]
  },
  {
   "cell_type": "markdown",
   "metadata": {},
   "source": [
    "Для начала посмотрим на изменение соотношения оплативших/неоплативших активных пользователей в группе теста и контроля с помощью метода Хи‑Квадрат:\n",
    "\n",
    "- $H_0$: нет значимого изменения соотношения активных оплативших/неоплативших пользователей между тестовой и контрольной группами\n",
    "- $H_1$: есть значимое изменение соотношения"
   ]
  },
  {
   "cell_type": "code",
   "execution_count": 61,
   "metadata": {},
   "outputs": [
    {
     "data": {
      "text/html": [
       "<div>\n",
       "<style scoped>\n",
       "    .dataframe tbody tr th:only-of-type {\n",
       "        vertical-align: middle;\n",
       "    }\n",
       "\n",
       "    .dataframe tbody tr th {\n",
       "        vertical-align: top;\n",
       "    }\n",
       "\n",
       "    .dataframe thead th {\n",
       "        text-align: right;\n",
       "    }\n",
       "</style>\n",
       "<table border=\"1\" class=\"dataframe\">\n",
       "  <thead>\n",
       "    <tr style=\"text-align: right;\">\n",
       "      <th>grp</th>\n",
       "      <th>A</th>\n",
       "      <th>B</th>\n",
       "    </tr>\n",
       "    <tr>\n",
       "      <th>client</th>\n",
       "      <th></th>\n",
       "      <th></th>\n",
       "    </tr>\n",
       "  </thead>\n",
       "  <tbody>\n",
       "    <tr>\n",
       "      <th>paying</th>\n",
       "      <td>0.0507</td>\n",
       "      <td>0.0462</td>\n",
       "    </tr>\n",
       "    <tr>\n",
       "      <th>without paying</th>\n",
       "      <td>0.9493</td>\n",
       "      <td>0.9538</td>\n",
       "    </tr>\n",
       "  </tbody>\n",
       "</table>\n",
       "</div>"
      ],
      "text/plain": [
       "grp                  A       B\n",
       "client                        \n",
       "paying          0.0507  0.0462\n",
       "without paying  0.9493  0.9538"
      ]
     },
     "metadata": {},
     "output_type": "display_data"
    }
   ],
   "source": [
    "display(pd.crosstab(groups_all.query('status == \"active\"').client, \\\n",
    "                    groups_all.query('status == \"active\"').grp, \\\n",
    "                    normalize='columns').round(4))"
   ]
  },
  {
   "cell_type": "code",
   "execution_count": 62,
   "metadata": {},
   "outputs": [
    {
     "data": {
      "text/html": [
       "<div>\n",
       "<style scoped>\n",
       "    .dataframe tbody tr th:only-of-type {\n",
       "        vertical-align: middle;\n",
       "    }\n",
       "\n",
       "    .dataframe tbody tr th {\n",
       "        vertical-align: top;\n",
       "    }\n",
       "\n",
       "    .dataframe thead th {\n",
       "        text-align: right;\n",
       "    }\n",
       "</style>\n",
       "<table border=\"1\" class=\"dataframe\">\n",
       "  <thead>\n",
       "    <tr style=\"text-align: right;\">\n",
       "      <th></th>\n",
       "      <th>test</th>\n",
       "      <th>lambda</th>\n",
       "      <th>chi2</th>\n",
       "      <th>dof</th>\n",
       "      <th>pval</th>\n",
       "      <th>cramer</th>\n",
       "      <th>power</th>\n",
       "    </tr>\n",
       "  </thead>\n",
       "  <tbody>\n",
       "    <tr>\n",
       "      <th>0</th>\n",
       "      <td>pearson</td>\n",
       "      <td>1.000000</td>\n",
       "      <td>0.484808</td>\n",
       "      <td>1.0</td>\n",
       "      <td>0.486252</td>\n",
       "      <td>0.007624</td>\n",
       "      <td>0.107123</td>\n",
       "    </tr>\n",
       "    <tr>\n",
       "      <th>1</th>\n",
       "      <td>cressie-read</td>\n",
       "      <td>0.666667</td>\n",
       "      <td>0.482018</td>\n",
       "      <td>1.0</td>\n",
       "      <td>0.487510</td>\n",
       "      <td>0.007602</td>\n",
       "      <td>0.106787</td>\n",
       "    </tr>\n",
       "    <tr>\n",
       "      <th>2</th>\n",
       "      <td>log-likelihood</td>\n",
       "      <td>0.000000</td>\n",
       "      <td>0.476541</td>\n",
       "      <td>1.0</td>\n",
       "      <td>0.489993</td>\n",
       "      <td>0.007559</td>\n",
       "      <td>0.106127</td>\n",
       "    </tr>\n",
       "    <tr>\n",
       "      <th>3</th>\n",
       "      <td>freeman-tukey</td>\n",
       "      <td>-0.500000</td>\n",
       "      <td>0.472522</td>\n",
       "      <td>1.0</td>\n",
       "      <td>0.491829</td>\n",
       "      <td>0.007527</td>\n",
       "      <td>0.105643</td>\n",
       "    </tr>\n",
       "    <tr>\n",
       "      <th>4</th>\n",
       "      <td>mod-log-likelihood</td>\n",
       "      <td>-1.000000</td>\n",
       "      <td>0.468578</td>\n",
       "      <td>1.0</td>\n",
       "      <td>0.493642</td>\n",
       "      <td>0.007495</td>\n",
       "      <td>0.105168</td>\n",
       "    </tr>\n",
       "    <tr>\n",
       "      <th>5</th>\n",
       "      <td>neyman</td>\n",
       "      <td>-2.000000</td>\n",
       "      <td>0.460909</td>\n",
       "      <td>1.0</td>\n",
       "      <td>0.497200</td>\n",
       "      <td>0.007434</td>\n",
       "      <td>0.104245</td>\n",
       "    </tr>\n",
       "  </tbody>\n",
       "</table>\n",
       "</div>"
      ],
      "text/plain": [
       "                 test    lambda      chi2  dof      pval    cramer     power\n",
       "0             pearson  1.000000  0.484808  1.0  0.486252  0.007624  0.107123\n",
       "1        cressie-read  0.666667  0.482018  1.0  0.487510  0.007602  0.106787\n",
       "2      log-likelihood  0.000000  0.476541  1.0  0.489993  0.007559  0.106127\n",
       "3       freeman-tukey -0.500000  0.472522  1.0  0.491829  0.007527  0.105643\n",
       "4  mod-log-likelihood -1.000000  0.468578  1.0  0.493642  0.007495  0.105168\n",
       "5              neyman -2.000000  0.460909  1.0  0.497200  0.007434  0.104245"
      ]
     },
     "execution_count": 62,
     "metadata": {},
     "output_type": "execute_result"
    }
   ],
   "source": [
    "exp_1, obs_1, stats_1 = pg.chi2_independence(data=groups_all.query('status == \"active\"'), x='grp', y='client')\n",
    "stats_1"
   ]
  },
  {
   "cell_type": "markdown",
   "metadata": {},
   "source": [
    "#### Вывод  \n",
    "По всем вариациям теста Хи-квадрат pval > 0.05 => **НЕ ОТКЛОНЯЕМ** $H_0$  \n",
    "Среди активных пользователей нет значимого изменения соотношения оплативших/неоплативших между тестовой и контрольной группами."
   ]
  },
  {
   "cell_type": "markdown",
   "metadata": {},
   "source": [
    "#### Проверка количественных гипотез"
   ]
  },
  {
   "cell_type": "markdown",
   "metadata": {},
   "source": [
    "**Для начала посмотрим на описательные статистики, нормальность данных и гомогенность дисперсий в двух выборках**"
   ]
  },
  {
   "cell_type": "code",
   "execution_count": 63,
   "metadata": {},
   "outputs": [],
   "source": [
    "# Для удобства дальнейшей работы сформируем отдельные df по активным юзерам группы контроля и теста\n",
    "act_control = groups_all.query('status == \"active\" & grp == \"A\"')\n",
    "act_test    = groups_all.query('status == \"active\" & grp == \"B\"')\n",
    "\n",
    "# act_control + act_test = groups_all.query('status == \"active\"')"
   ]
  },
  {
   "cell_type": "code",
   "execution_count": 64,
   "metadata": {},
   "outputs": [
    {
     "data": {
      "text/html": [
       "<div>\n",
       "<style scoped>\n",
       "    .dataframe tbody tr th:only-of-type {\n",
       "        vertical-align: middle;\n",
       "    }\n",
       "\n",
       "    .dataframe tbody tr th {\n",
       "        vertical-align: top;\n",
       "    }\n",
       "\n",
       "    .dataframe thead th {\n",
       "        text-align: right;\n",
       "    }\n",
       "</style>\n",
       "<table border=\"1\" class=\"dataframe\">\n",
       "  <thead>\n",
       "    <tr style=\"text-align: right;\">\n",
       "      <th></th>\n",
       "      <th>A</th>\n",
       "      <th>B</th>\n",
       "    </tr>\n",
       "  </thead>\n",
       "  <tbody>\n",
       "    <tr>\n",
       "      <th>count</th>\n",
       "      <td>78.000000</td>\n",
       "      <td>314.000000</td>\n",
       "    </tr>\n",
       "    <tr>\n",
       "      <th>mean</th>\n",
       "      <td>933.589744</td>\n",
       "      <td>1257.878981</td>\n",
       "    </tr>\n",
       "    <tr>\n",
       "      <th>std</th>\n",
       "      <td>919.932711</td>\n",
       "      <td>790.864245</td>\n",
       "    </tr>\n",
       "    <tr>\n",
       "      <th>min</th>\n",
       "      <td>199.000000</td>\n",
       "      <td>199.000000</td>\n",
       "    </tr>\n",
       "    <tr>\n",
       "      <th>25%</th>\n",
       "      <td>290.000000</td>\n",
       "      <td>511.750000</td>\n",
       "    </tr>\n",
       "    <tr>\n",
       "      <th>50%</th>\n",
       "      <td>585.000000</td>\n",
       "      <td>1140.000000</td>\n",
       "    </tr>\n",
       "    <tr>\n",
       "      <th>75%</th>\n",
       "      <td>1114.750000</td>\n",
       "      <td>1900.000000</td>\n",
       "    </tr>\n",
       "    <tr>\n",
       "      <th>max</th>\n",
       "      <td>3660.000000</td>\n",
       "      <td>4650.000000</td>\n",
       "    </tr>\n",
       "  </tbody>\n",
       "</table>\n",
       "</div>"
      ],
      "text/plain": [
       "                 A            B\n",
       "count    78.000000   314.000000\n",
       "mean    933.589744  1257.878981\n",
       "std     919.932711   790.864245\n",
       "min     199.000000   199.000000\n",
       "25%     290.000000   511.750000\n",
       "50%     585.000000  1140.000000\n",
       "75%    1114.750000  1900.000000\n",
       "max    3660.000000  4650.000000"
      ]
     },
     "execution_count": 64,
     "metadata": {},
     "output_type": "execute_result"
    }
   ],
   "source": [
    "#Основные статистики для группы теста и контроля (только по активным платящим пользователям)\n",
    "pd.concat([act_control.dropna().describe().rename(columns={'rev':'A'}), \\\n",
    "              act_test.dropna().describe().rename(columns={'rev':'B'})], axis=1)"
   ]
  },
  {
   "cell_type": "code",
   "execution_count": 108,
   "metadata": {},
   "outputs": [
    {
     "data": {
      "image/png": "[encoded data removed]",
      "text/plain": [
       "<Figure size 1152x288 with 1 Axes>"
      ]
     },
     "metadata": {},
     "output_type": "display_data"
    }
   ],
   "source": [
    "# Визуализируем распределение дохода с платящих пользователей в группе контроля\n",
    "plt.figure(figsize=(16,4))\n",
    "sns.countplot(x=act_control.rev.dropna().apply(int), color='lightblue')\n",
    "plt.title(\"Распределение дохода с платящих пользователей в группе контроля\");"
   ]
  },
  {
   "cell_type": "code",
   "execution_count": 109,
   "metadata": {},
   "outputs": [
    {
     "data": {
      "image/png": "[encoded data removed]",
      "text/plain": [
       "<Figure size 1152x288 with 1 Axes>"
      ]
     },
     "metadata": {},
     "output_type": "display_data"
    }
   ],
   "source": [
    "# Визуализируем распределение дохода с платящих пользователей в группе теста\n",
    "plt.figure(figsize=(16,4))\n",
    "sns.countplot(x=act_test.rev.dropna().apply(int), color='lightblue')\n",
    "plt.title(\"Распределение дохода с платящих пользователей в группе теста\");"
   ]
  },
  {
   "cell_type": "code",
   "execution_count": 110,
   "metadata": {},
   "outputs": [
    {
     "data": {
      "image/png": "[encoded data removed]",
      "text/plain": [
       "<Figure size 720x288 with 1 Axes>"
      ]
     },
     "metadata": {},
     "output_type": "display_data"
    }
   ],
   "source": [
    "# Воспользуемся диаграммой боксплот для более удобного сравнительного анализа распределения дохода по платящим пользователям\n",
    "sns.boxplot(data=groups_all.dropna().query(\"status == 'active'\"), x='rev', y='grp')\n",
    "plt.title(\"Распределение дохода с платящих пользователей в группах контроля и теста\");"
   ]
  },
  {
   "cell_type": "code",
   "execution_count": 111,
   "metadata": {},
   "outputs": [
    {
     "data": {
      "image/png": "[encoded data removed]",
      "text/plain": [
       "<Figure size 720x288 with 1 Axes>"
      ]
     },
     "metadata": {},
     "output_type": "display_data"
    }
   ],
   "source": [
    "# Посмотрим на распределение дохода c платящих пользователей по группам на одной диаграмме\n",
    "sns.histplot(data=groups_all.query('status==\"active\"'), x=\"rev\", hue=\"grp\", bins=30)\n",
    "plt.title(\"Распределение дохода с платящих пользователей в группе контроля и теста\");"
   ]
  },
  {
   "cell_type": "code",
   "execution_count": 112,
   "metadata": {},
   "outputs": [
    {
     "data": {
      "text/html": [
       "<div>\n",
       "<style scoped>\n",
       "    .dataframe tbody tr th:only-of-type {\n",
       "        vertical-align: middle;\n",
       "    }\n",
       "\n",
       "    .dataframe tbody tr th {\n",
       "        vertical-align: top;\n",
       "    }\n",
       "\n",
       "    .dataframe thead th {\n",
       "        text-align: right;\n",
       "    }\n",
       "</style>\n",
       "<table border=\"1\" class=\"dataframe\">\n",
       "  <thead>\n",
       "    <tr style=\"text-align: right;\">\n",
       "      <th></th>\n",
       "      <th>A</th>\n",
       "      <th>B</th>\n",
       "    </tr>\n",
       "  </thead>\n",
       "  <tbody>\n",
       "    <tr>\n",
       "      <th>count</th>\n",
       "      <td>1538.000000</td>\n",
       "      <td>6803.000000</td>\n",
       "    </tr>\n",
       "    <tr>\n",
       "      <th>mean</th>\n",
       "      <td>47.347204</td>\n",
       "      <td>58.058798</td>\n",
       "    </tr>\n",
       "    <tr>\n",
       "      <th>std</th>\n",
       "      <td>290.490632</td>\n",
       "      <td>313.770198</td>\n",
       "    </tr>\n",
       "    <tr>\n",
       "      <th>min</th>\n",
       "      <td>0.000000</td>\n",
       "      <td>0.000000</td>\n",
       "    </tr>\n",
       "    <tr>\n",
       "      <th>25%</th>\n",
       "      <td>0.000000</td>\n",
       "      <td>0.000000</td>\n",
       "    </tr>\n",
       "    <tr>\n",
       "      <th>50%</th>\n",
       "      <td>0.000000</td>\n",
       "      <td>0.000000</td>\n",
       "    </tr>\n",
       "    <tr>\n",
       "      <th>75%</th>\n",
       "      <td>0.000000</td>\n",
       "      <td>0.000000</td>\n",
       "    </tr>\n",
       "    <tr>\n",
       "      <th>max</th>\n",
       "      <td>3660.000000</td>\n",
       "      <td>4650.000000</td>\n",
       "    </tr>\n",
       "  </tbody>\n",
       "</table>\n",
       "</div>"
      ],
      "text/plain": [
       "                 A            B\n",
       "count  1538.000000  6803.000000\n",
       "mean     47.347204    58.058798\n",
       "std     290.490632   313.770198\n",
       "min       0.000000     0.000000\n",
       "25%       0.000000     0.000000\n",
       "50%       0.000000     0.000000\n",
       "75%       0.000000     0.000000\n",
       "max    3660.000000  4650.000000"
      ]
     },
     "execution_count": 112,
     "metadata": {},
     "output_type": "execute_result"
    }
   ],
   "source": [
    "#Основные статистики для группы теста и контроля (в том числе и по активным неплатящим пользователям)\n",
    "pd.concat([act_control.fillna(0).describe().rename(columns={'rev':'A'}), \\\n",
    "              act_test.fillna(0).describe().rename(columns={'rev':'B'})], axis=1)"
   ]
  },
  {
   "cell_type": "code",
   "execution_count": 113,
   "metadata": {},
   "outputs": [
    {
     "data": {
      "image/png": "[encoded data removed]",
      "text/plain": [
       "<Figure size 720x288 with 1 Axes>"
      ]
     },
     "metadata": {},
     "output_type": "display_data"
    }
   ],
   "source": [
    "# Посмотрим на распределение дохода c пользователей по группам \n",
    "sns.histplot(data=groups_all.fillna(0).query('status==\"active\"'), x=\"rev\", hue=\"grp\", bins=20)\n",
    "plt.title(\"Распределение дохода с пользователей в группе контроля и теста\");"
   ]
  },
  {
   "cell_type": "code",
   "execution_count": 114,
   "metadata": {},
   "outputs": [
    {
     "data": {
      "text/html": [
       "<div>\n",
       "<style scoped>\n",
       "    .dataframe tbody tr th:only-of-type {\n",
       "        vertical-align: middle;\n",
       "    }\n",
       "\n",
       "    .dataframe tbody tr th {\n",
       "        vertical-align: top;\n",
       "    }\n",
       "\n",
       "    .dataframe thead th {\n",
       "        text-align: right;\n",
       "    }\n",
       "</style>\n",
       "<table border=\"1\" class=\"dataframe\">\n",
       "  <thead>\n",
       "    <tr style=\"text-align: right;\">\n",
       "      <th></th>\n",
       "      <th>W</th>\n",
       "      <th>pval</th>\n",
       "      <th>equal_var</th>\n",
       "    </tr>\n",
       "  </thead>\n",
       "  <tbody>\n",
       "    <tr>\n",
       "      <th>levene</th>\n",
       "      <td>3.075681</td>\n",
       "      <td>0.080257</td>\n",
       "      <td>True</td>\n",
       "    </tr>\n",
       "  </tbody>\n",
       "</table>\n",
       "</div>"
      ],
      "text/plain": [
       "               W      pval  equal_var\n",
       "levene  3.075681  0.080257       True"
      ]
     },
     "execution_count": 114,
     "metadata": {},
     "output_type": "execute_result"
    }
   ],
   "source": [
    "# Проверим тестом Левена гомогенность дисперсий в двух выборках\n",
    "# pval > 0.05: Нулевая гипотеза о равенстве дисперсий принимается — дисперсии гомогенны.\n",
    "# pval <= 0.05: Нулевая гипотеза отклоняется — дисперсии неоднородны\n",
    "\n",
    "pg.homoscedasticity(data=groups_all.dropna().query('status==\"active\"'), dv='rev', group='grp', method='levene')"
   ]
  },
  {
   "cell_type": "code",
   "execution_count": 116,
   "metadata": {},
   "outputs": [
    {
     "data": {
      "text/html": [
       "<div>\n",
       "<style scoped>\n",
       "    .dataframe tbody tr th:only-of-type {\n",
       "        vertical-align: middle;\n",
       "    }\n",
       "\n",
       "    .dataframe tbody tr th {\n",
       "        vertical-align: top;\n",
       "    }\n",
       "\n",
       "    .dataframe thead th {\n",
       "        text-align: right;\n",
       "    }\n",
       "</style>\n",
       "<table border=\"1\" class=\"dataframe\">\n",
       "  <thead>\n",
       "    <tr style=\"text-align: right;\">\n",
       "      <th></th>\n",
       "      <th>W</th>\n",
       "      <th>pval</th>\n",
       "      <th>normal</th>\n",
       "    </tr>\n",
       "    <tr>\n",
       "      <th>grp</th>\n",
       "      <th></th>\n",
       "      <th></th>\n",
       "      <th></th>\n",
       "    </tr>\n",
       "  </thead>\n",
       "  <tbody>\n",
       "    <tr>\n",
       "      <th>A</th>\n",
       "      <td>0.735324</td>\n",
       "      <td>1.498682e-10</td>\n",
       "      <td>False</td>\n",
       "    </tr>\n",
       "    <tr>\n",
       "      <th>B</th>\n",
       "      <td>0.854723</td>\n",
       "      <td>1.543654e-16</td>\n",
       "      <td>False</td>\n",
       "    </tr>\n",
       "  </tbody>\n",
       "</table>\n",
       "</div>"
      ],
      "text/plain": [
       "            W          pval  normal\n",
       "grp                                \n",
       "A    0.735324  1.498682e-10   False\n",
       "B    0.854723  1.543654e-16   False"
      ]
     },
     "metadata": {},
     "output_type": "display_data"
    },
    {
     "data": {
      "text/html": [
       "<div>\n",
       "<style scoped>\n",
       "    .dataframe tbody tr th:only-of-type {\n",
       "        vertical-align: middle;\n",
       "    }\n",
       "\n",
       "    .dataframe tbody tr th {\n",
       "        vertical-align: top;\n",
       "    }\n",
       "\n",
       "    .dataframe thead th {\n",
       "        text-align: right;\n",
       "    }\n",
       "</style>\n",
       "<table border=\"1\" class=\"dataframe\">\n",
       "  <thead>\n",
       "    <tr style=\"text-align: right;\">\n",
       "      <th></th>\n",
       "      <th>W</th>\n",
       "      <th>pval</th>\n",
       "      <th>normal</th>\n",
       "    </tr>\n",
       "    <tr>\n",
       "      <th>grp</th>\n",
       "      <th></th>\n",
       "      <th></th>\n",
       "      <th></th>\n",
       "    </tr>\n",
       "  </thead>\n",
       "  <tbody>\n",
       "    <tr>\n",
       "      <th>A</th>\n",
       "      <td>30.378420</td>\n",
       "      <td>2.531687e-07</td>\n",
       "      <td>False</td>\n",
       "    </tr>\n",
       "    <tr>\n",
       "      <th>B</th>\n",
       "      <td>6.795664</td>\n",
       "      <td>3.344570e-02</td>\n",
       "      <td>False</td>\n",
       "    </tr>\n",
       "  </tbody>\n",
       "</table>\n",
       "</div>"
      ],
      "text/plain": [
       "             W          pval  normal\n",
       "grp                                 \n",
       "A    30.378420  2.531687e-07   False\n",
       "B     6.795664  3.344570e-02   False"
      ]
     },
     "metadata": {},
     "output_type": "display_data"
    }
   ],
   "source": [
    "# Проверим нормальность данных (хотя уже по описательным статистикам и визуализациям итак понятно, что данные совершенно не нормальные)\n",
    "\n",
    "# по Шапиро\n",
    "display(pg.normality(data=groups_all.query('status==\"active\"'), dv=\"rev\", group=\"grp\"))\n",
    "\n",
    "# по альтернативному тесту\n",
    "display(pg.normality(data=groups_all.query('status==\"active\"'), dv=\"rev\", group=\"grp\", method=\"normaltest\"))"
   ]
  },
  {
   "cell_type": "markdown",
   "metadata": {},
   "source": [
    "#### Вывод\n",
    "\n",
    "Распределение доходов с пользователей отличается от нормального. При этом размер выборок и факт того, что дисперсии в выборках гомогенны, позволяет использовать для проверки гипотез классический t-test."
   ]
  },
  {
   "cell_type": "markdown",
   "metadata": {},
   "source": [
    "### Гипотеза 2: изменился доход с активного платящего пользователя платформы"
   ]
  },
  {
   "cell_type": "code",
   "execution_count": 121,
   "metadata": {},
   "outputs": [
    {
     "data": {
      "text/html": [
       "<div>\n",
       "<style scoped>\n",
       "    .dataframe tbody tr th:only-of-type {\n",
       "        vertical-align: middle;\n",
       "    }\n",
       "\n",
       "    .dataframe tbody tr th {\n",
       "        vertical-align: top;\n",
       "    }\n",
       "\n",
       "    .dataframe thead th {\n",
       "        text-align: right;\n",
       "    }\n",
       "</style>\n",
       "<table border=\"1\" class=\"dataframe\">\n",
       "  <thead>\n",
       "    <tr style=\"text-align: right;\">\n",
       "      <th></th>\n",
       "      <th>grp</th>\n",
       "      <th>clients</th>\n",
       "      <th>rev_total</th>\n",
       "      <th>rev_std</th>\n",
       "      <th>ARPPU_mean</th>\n",
       "      <th>ARPPU_median</th>\n",
       "    </tr>\n",
       "  </thead>\n",
       "  <tbody>\n",
       "    <tr>\n",
       "      <th>0</th>\n",
       "      <td>A</td>\n",
       "      <td>78</td>\n",
       "      <td>72820.0</td>\n",
       "      <td>919.932711</td>\n",
       "      <td>933.589744</td>\n",
       "      <td>585.0</td>\n",
       "    </tr>\n",
       "    <tr>\n",
       "      <th>1</th>\n",
       "      <td>B</td>\n",
       "      <td>314</td>\n",
       "      <td>394974.0</td>\n",
       "      <td>790.864245</td>\n",
       "      <td>1257.878981</td>\n",
       "      <td>1140.0</td>\n",
       "    </tr>\n",
       "  </tbody>\n",
       "</table>\n",
       "</div>"
      ],
      "text/plain": [
       "  grp  clients  rev_total     rev_std   ARPPU_mean  ARPPU_median\n",
       "0   A       78    72820.0  919.932711   933.589744         585.0\n",
       "1   B      314   394974.0  790.864245  1257.878981        1140.0"
      ]
     },
     "execution_count": 121,
     "metadata": {},
     "output_type": "execute_result"
    }
   ],
   "source": [
    "# Выведем для наглядности по группам кол-во платящих клиентов, суммарную выручку, ст. откл, среднее и медианное значение ARPPU \n",
    "groups_all.query('status == \"active\"') \\\n",
    "          .groupby(['grp'], as_index=False) \\\n",
    "          .agg(clients=('rev', 'count'), rev_total=('rev', 'sum'), rev_std=('rev', 'std'), \n",
    "               ARPPU_mean=('rev','mean'), ARPPU_median=('rev','median'))"
   ]
  },
  {
   "cell_type": "code",
   "execution_count": 118,
   "metadata": {},
   "outputs": [
    {
     "name": "stdout",
     "output_type": "stream",
     "text": [
      "Cредний доход на платящего пользователя в группе теста по сравнению с группой контроля увеличился на 34.7%\n"
     ]
    }
   ],
   "source": [
    "print(f'Cредний доход на платящего пользователя в группе теста по сравнению с группой контроля увеличился на {round((act_test.rev.mean() - act_control.rev.mean())/act_control.rev.mean()*100,1)}%')"
   ]
  },
  {
   "cell_type": "markdown",
   "metadata": {},
   "source": [
    "##### Применим t-тест \n",
    "\n",
    "- $H_0$: средний доход с платящего пользователя, который заходил на платформу в дни проведения эксперимента, в тестовой и контрольной группе не различается  \n",
    "- $H_1$: средний доход с платящего пользователя, который заходил на платформу в дни проведения эксперимента, в тестовой и контрольной группе различается  "
   ]
  },
  {
   "cell_type": "code",
   "execution_count": 119,
   "metadata": {},
   "outputs": [
    {
     "data": {
      "text/html": [
       "<div>\n",
       "<style scoped>\n",
       "    .dataframe tbody tr th:only-of-type {\n",
       "        vertical-align: middle;\n",
       "    }\n",
       "\n",
       "    .dataframe tbody tr th {\n",
       "        vertical-align: top;\n",
       "    }\n",
       "\n",
       "    .dataframe thead th {\n",
       "        text-align: right;\n",
       "    }\n",
       "</style>\n",
       "<table border=\"1\" class=\"dataframe\">\n",
       "  <thead>\n",
       "    <tr style=\"text-align: right;\">\n",
       "      <th></th>\n",
       "      <th>T</th>\n",
       "      <th>dof</th>\n",
       "      <th>alternative</th>\n",
       "      <th>p-val</th>\n",
       "      <th>CI95%</th>\n",
       "      <th>cohen-d</th>\n",
       "      <th>BF10</th>\n",
       "      <th>power</th>\n",
       "    </tr>\n",
       "  </thead>\n",
       "  <tbody>\n",
       "    <tr>\n",
       "      <th>T-test</th>\n",
       "      <td>-2.86169</td>\n",
       "      <td>106.981667</td>\n",
       "      <td>two-sided</td>\n",
       "      <td>0.00507</td>\n",
       "      <td>[-548.94, -99.64]</td>\n",
       "      <td>0.39646</td>\n",
       "      <td>6.536</td>\n",
       "      <td>0.878211</td>\n",
       "    </tr>\n",
       "  </tbody>\n",
       "</table>\n",
       "</div>"
      ],
      "text/plain": [
       "              T         dof alternative    p-val              CI95%  cohen-d  \\\n",
       "T-test -2.86169  106.981667   two-sided  0.00507  [-548.94, -99.64]  0.39646   \n",
       "\n",
       "         BF10     power  \n",
       "T-test  6.536  0.878211  "
      ]
     },
     "execution_count": 119,
     "metadata": {},
     "output_type": "execute_result"
    }
   ],
   "source": [
    "# Стандартный t-test\n",
    "pg.ttest(x=act_control.dropna().rev, y=act_test.dropna().rev)"
   ]
  },
  {
   "cell_type": "markdown",
   "metadata": {},
   "source": [
    "##### Вывод \n",
    "pval < \t0.05 => **отклоняем** $H_0$  \n",
    "Средний доход  с платящего пользователя, который заходил на платформу в дни проведения эксперимента, в тестовой и контрольной группе различается. \n",
    "В группе теста ARPPU стат.значимо выше."
   ]
  },
  {
   "cell_type": "markdown",
   "metadata": {},
   "source": [
    "### Гипотеза 3: изменился доход с активного пользователя "
   ]
  },
  {
   "cell_type": "code",
   "execution_count": 122,
   "metadata": {},
   "outputs": [
    {
     "data": {
      "text/html": [
       "<div>\n",
       "<style scoped>\n",
       "    .dataframe tbody tr th:only-of-type {\n",
       "        vertical-align: middle;\n",
       "    }\n",
       "\n",
       "    .dataframe tbody tr th {\n",
       "        vertical-align: top;\n",
       "    }\n",
       "\n",
       "    .dataframe thead th {\n",
       "        text-align: right;\n",
       "    }\n",
       "</style>\n",
       "<table border=\"1\" class=\"dataframe\">\n",
       "  <thead>\n",
       "    <tr style=\"text-align: right;\">\n",
       "      <th></th>\n",
       "      <th>grp</th>\n",
       "      <th>users</th>\n",
       "      <th>rev_total</th>\n",
       "      <th>rev_std</th>\n",
       "      <th>ARPU_mean</th>\n",
       "      <th>ARPU_median</th>\n",
       "    </tr>\n",
       "  </thead>\n",
       "  <tbody>\n",
       "    <tr>\n",
       "      <th>0</th>\n",
       "      <td>A</td>\n",
       "      <td>1538</td>\n",
       "      <td>72820.0</td>\n",
       "      <td>290.490632</td>\n",
       "      <td>47.347204</td>\n",
       "      <td>0.0</td>\n",
       "    </tr>\n",
       "    <tr>\n",
       "      <th>1</th>\n",
       "      <td>B</td>\n",
       "      <td>6803</td>\n",
       "      <td>394974.0</td>\n",
       "      <td>313.770198</td>\n",
       "      <td>58.058798</td>\n",
       "      <td>0.0</td>\n",
       "    </tr>\n",
       "  </tbody>\n",
       "</table>\n",
       "</div>"
      ],
      "text/plain": [
       "  grp  users  rev_total     rev_std  ARPU_mean  ARPU_median\n",
       "0   A   1538    72820.0  290.490632  47.347204          0.0\n",
       "1   B   6803   394974.0  313.770198  58.058798          0.0"
      ]
     },
     "execution_count": 122,
     "metadata": {},
     "output_type": "execute_result"
    }
   ],
   "source": [
    "# Выведем для наглядности по группам количество юзеров, суммарную выручку, стандартное отклонение, среднее и медианное значение ARPU \n",
    "groups_all.fillna(0) \\\n",
    "          .query('status == \"active\"') \\\n",
    "          .groupby(['grp'], as_index=False) \\\n",
    "          .agg(users=('id', 'count'), rev_total=('rev', 'sum'), \n",
    "               rev_std=('rev', 'std'), ARPU_mean=('rev','mean'), ARPU_median=('rev','median'))"
   ]
  },
  {
   "cell_type": "code",
   "execution_count": 123,
   "metadata": {},
   "outputs": [
    {
     "name": "stdout",
     "output_type": "stream",
     "text": [
      "Cредний доход на пользователя в группе теста по сравнению с группой контроля увеличился на 22.6%\n"
     ]
    }
   ],
   "source": [
    "print(f'Cредний доход на пользователя в группе теста по сравнению с группой контроля увеличился на {round((act_test.fillna(0).rev.mean() - act_control.fillna(0).rev.mean())/act_control.fillna(0).rev.mean()*100,1)}%')"
   ]
  },
  {
   "cell_type": "markdown",
   "metadata": {},
   "source": [
    "##### Применим t-тест \n",
    "- $H_0$: средний доход с пользователя, который заходил на платформу в дни проведения эксперимента, в тестовой и контрольной группе не различается  \n",
    "- $H_1$: средний доход с пользователя, который заходил на платформу в дни проведения эксперимента, в тестовой и контрольной группе различается  "
   ]
  },
  {
   "cell_type": "code",
   "execution_count": 124,
   "metadata": {},
   "outputs": [
    {
     "data": {
      "text/html": [
       "<div>\n",
       "<style scoped>\n",
       "    .dataframe tbody tr th:only-of-type {\n",
       "        vertical-align: middle;\n",
       "    }\n",
       "\n",
       "    .dataframe tbody tr th {\n",
       "        vertical-align: top;\n",
       "    }\n",
       "\n",
       "    .dataframe thead th {\n",
       "        text-align: right;\n",
       "    }\n",
       "</style>\n",
       "<table border=\"1\" class=\"dataframe\">\n",
       "  <thead>\n",
       "    <tr style=\"text-align: right;\">\n",
       "      <th></th>\n",
       "      <th>T</th>\n",
       "      <th>dof</th>\n",
       "      <th>alternative</th>\n",
       "      <th>p-val</th>\n",
       "      <th>CI95%</th>\n",
       "      <th>cohen-d</th>\n",
       "      <th>BF10</th>\n",
       "      <th>power</th>\n",
       "    </tr>\n",
       "  </thead>\n",
       "  <tbody>\n",
       "    <tr>\n",
       "      <th>T-test</th>\n",
       "      <td>-1.286374</td>\n",
       "      <td>2416.748026</td>\n",
       "      <td>two-sided</td>\n",
       "      <td>0.198436</td>\n",
       "      <td>[-27.04, 5.62]</td>\n",
       "      <td>0.034597</td>\n",
       "      <td>0.073</td>\n",
       "      <td>0.231965</td>\n",
       "    </tr>\n",
       "  </tbody>\n",
       "</table>\n",
       "</div>"
      ],
      "text/plain": [
       "               T          dof alternative     p-val           CI95%   cohen-d  \\\n",
       "T-test -1.286374  2416.748026   two-sided  0.198436  [-27.04, 5.62]  0.034597   \n",
       "\n",
       "         BF10     power  \n",
       "T-test  0.073  0.231965  "
      ]
     },
     "execution_count": 124,
     "metadata": {},
     "output_type": "execute_result"
    }
   ],
   "source": [
    "# Стандартный t-test\n",
    "pg.ttest(x=act_control.fillna(0).rev, y=act_test.fillna(0).rev)"
   ]
  },
  {
   "cell_type": "markdown",
   "metadata": {},
   "source": [
    "##### Вывод\n",
    "pval > \t0.05 => **НЕ отклоняем** $H_0$  \n",
    "Средний доход с пользователя, который заходил на платформу в дни проведения эксперимента, в тестовой и контрольной группе не различается"
   ]
  },
  {
   "cell_type": "markdown",
   "metadata": {},
   "source": [
    "### Основные выводы по эксперименту\n",
    "\n",
    "1. Система сплитования изначально определила 14 693 пользователей в группу контроля и 59 883 пользователей в группу теста, что кажется не совсем рациональным (то есть в группу теста попало в 4 раза больше пользователей, чем в группу контроля). Все дальнейшие выводы сделаны на основании спланированного таким образом эксперимента, но есть рекомендация не раскатывать непротестированные изменения сразу на такую долю пользователей (поскольку это несет риски, если изменения окажутся негативными). Для более корректных экспериментов стоит стремиться к более сбалансированному распределению пользователей по группам.\n",
    "\n",
    "2. По имеющимся данным можно предположить, что существуют способы обойти посещение сайта для проведения оплаты. 149 пользователей осуществили оплату без посещения сайта (29 из группы контроля, 120 из группы теста); все пользователи, которые не зашли на платформу в дни проведения эксперимента, в том числе и оплатившие, были исключены из расчета ключевых метрик по оценке эффективности новой механики оплаты.  \n",
    "\n",
    "3. Распределение дохода с активных платящих пользователей отличается от нормального в обеих группах (что в целом отражает специфику трат пользователей в самых разных сервисах). В группе теста наблюдается статистически значимое увеличение среднего дохода на платящего пользователя на 34.7% в сравнении с контрольной группой.  \n",
    "\n",
    "4. Снижение конверсии в оплату на 8.99% у тестовой группы, как и увеличение среднего дохода на пользователя на 22.6%, по результатам AB-тестирования нельзя считать значимыми изменениями.\n",
    "\n",
    "\n",
    "Мы не знаем, в ходе тестирования какой именно продуктовой гипотезы целевой группе была предложена новая механика оплаты услуг на сайте. Таким образом:\n",
    "\n",
    "- если повышение среднего дохода на платящего пользователя — это основная бизнес-цель эксперимента, то новая механика может быть оправдана, так как наблюдается статистически значимое увеличение метрики ARPPU. \n",
    "- если продуктовая гипотеза касалась улучшений показателей ARPU, конверсии в покупку, то по результатам AB-тестов запуск новой механики на всех пользователей не оправдан.\n",
    "\n",
    "На текущем этапе я бы рекомендовала провести дополнительное тестирование с более оправданным распределением пользователей между группами и четко сформулированными продуктовыми целями эксперимента."
   ]
  },
  {
   "cell_type": "markdown",
   "metadata": {},
   "source": [
    "#### Дополнительные задачи по написанию функций"
   ]
  },
  {
   "cell_type": "markdown",
   "metadata": {},
   "source": [
    "Реализация функции, которая будет автоматически подгружать информацию из дополнительного файла groups_add.csv (заголовки могут отличаться) и на основании дополнительных параметров пересчитывать метрики."
   ]
  },
  {
   "cell_type": "code",
   "execution_count": 125,
   "metadata": {},
   "outputs": [],
   "source": [
    "# Аргументы функции\n",
    "\n",
    "# base_df - основной датафрейм в работе (в нашем кейсе это groups_all)\n",
    "# groups_extra_link - дополнительный файл с id юзеров и назначением групп\n",
    "# active_studs_extra_link - дополнительный файл с id активных юзеров\n",
    "#    пояснение: предусмотрена возможность подгрузить также и доп. файл с id активных юзеров, так как: \n",
    "#    1) статус активности необходим для id пользователей из доп.файла groups_extra_link\n",
    "#    2) если эксперимент будет продолжен, то вполне вероятно изменение статуса активности у пользователя с неактивного на активный\n",
    "# checks_extra_link - дополнительный файл с тратами по id юзеров\n",
    "#    пояснение: предусмотрена возможность подгрузить также и доп. файл с тратами юзеров\n",
    "#    1) эта информация необходима для id пользователей из доп.файла groups_extra_link\n",
    "#    2) функция позволяет заменить сумму трат по id пользователя, который уже есть в основном датафрейме, если это необходимо\n",
    "#   Ссылки по умолчанию groups_extra_link, active_studs_extra_link, checks_extra_link — ссылки на csv-файлы из задания\n",
    "\n",
    "# Результат работы функции\n",
    "# Словарь: по ключу 'df' можно получить обновленный датафрейм, по 'metrics' — расчет метрик\n",
    "\n",
    "\n",
    "import csv\n",
    "from io import StringIO\n",
    "\n",
    "def func_add(base_df, \\\n",
    "             groups_extra_link=      'https://disk.yandex.ru/d/5Kxrz02m3IBUwQ', \\\n",
    "             active_studs_extra_link='https://disk.yandex.ru/d/Tbs44Bm6H_FwFQ', \\\n",
    "             checks_extra_link=      'https://disk.yandex.ru/d/pH1q-VqcxXjsVA'):\n",
    "    \n",
    "    def func_download_files(pub_key):\n",
    "        \n",
    "        # Получаем ссылку для скачивания файла        \n",
    "        key='https://cloud-api.yandex.net/v1/disk/public/resources/download?'\n",
    "        download_url = requests.get(key + urlencode(dict(public_key=pub_key))).json()['href']   \n",
    "        # Скачиваем содержимое файла и читаем содержимое файла как текст\n",
    "        csv_data = requests.get(download_url).text\n",
    "        # Определяем разделитель \n",
    "        try:\n",
    "            detected_delimiter = csv.Sniffer().sniff(csv_data[:1024]).delimiter\n",
    "        except Exception:\n",
    "            detected_delimiter = ','\n",
    "        # Читаем CSV в DataFrame \n",
    "        return pd.read_csv(StringIO(csv_data), sep=detected_delimiter)       \n",
    "        \n",
    "    # Загрузка датафреймов \n",
    "    \n",
    "    groups_extra       = func_download_files(groups_extra_link)\n",
    "    active_studs_extra = func_download_files(active_studs_extra_link)\n",
    "    checks_extra       = func_download_files(checks_extra_link)\n",
    "    \n",
    "        \n",
    "    # Обработка groups_extra   \n",
    "    \n",
    "    # Переименуем колонки и переведем в строковый формат\n",
    "    groups_extra.columns = ['id', 'grp']    \n",
    "    groups_extra = groups_extra.astype({'id': 'str', 'grp': 'str'})     \n",
    "    # Делаем проверку и очищаем от таких ситуаций в groups_extra:\n",
    "    # 1) наличие полного дубля строк\n",
    "    # 2) наличие и A, и B групп на один id\n",
    "    # 3) наличие повтора id из основного base_df\n",
    "    # 4) наличие каких-либо еще групп, кроме A и B    \n",
    "    groups_extra = groups_extra.query('~id.isin(@base_df.id) and grp in [\"A\", \"B\"]') \\\n",
    "                               .drop_duplicates().groupby('id').filter(lambda x: x['grp'].nunique() == 1)    \n",
    "    # Объединяем base_df и отфильтрованный groups_extra\n",
    "    updated_df = pd.concat([base_df, groups_extra], ignore_index=True)\n",
    "    \n",
    "    # Обработка active_studs_extra        \n",
    "    \n",
    "    # Переименуем колонки, переведем в строковый формат, сделаем проверку на дубликаты\n",
    "    active_studs_extra.columns = ['id']      \n",
    "    active_studs_extra['id'] = active_studs_extra['id'].astype('str')\n",
    "    active_studs_extra = active_studs_extra.drop_duplicates()\n",
    "    \n",
    "    # Обработка checks_extra     \n",
    "    \n",
    "    # Переименуем колонки, переведем в строковый формат\n",
    "    checks_extra.columns = ['id', 'rev']        \n",
    "    checks_extra = checks_extra.astype({'id': 'str', 'rev': 'float'})    \n",
    "    # Объединим траты по id юзера (в исходной задаче данные уже были агрегированы, на всякий случай)\n",
    "    checks_extra = checks_extra.groupby(['id'],as_index=False).rev.sum()\n",
    "    \n",
    "\n",
    "    # Обработка updated_df \n",
    "    \n",
    "    # Обновим статус активности\n",
    "    updated_df['status'] = np.where(updated_df.status.isin([np.NaN, 'inactive']) \\\n",
    "    & updated_df.id.isin(active_studs_extra.id), 'active', updated_df.status.fillna('inactive'))    \n",
    "    # Обновим статус оплаты\n",
    "    updated_df['client'] = np.where(updated_df.client.isin([np.NaN, 'without paying']) \\\n",
    "    & updated_df.id.isin(checks_extra.id), 'paying', updated_df.client.fillna('without paying'))  \n",
    "    # Обновим выручку\n",
    "    updated_df['rev'] = updated_df.id.map(checks_extra.set_index('id').rev).fillna(updated_df.rev)\n",
    "    \n",
    "    # Рассчитаем метрики\n",
    "    \n",
    "    metrics = updated_df.query('status == \"active\"').groupby(['grp'], as_index=False) \\\n",
    "    .agg(users=('id', 'count'), clients=('rev', 'count'), rev_total=('rev', 'sum')) \\\n",
    "    .assign(CR=lambda x: round(x.clients / x.users, 4), ARPU=lambda x: round(x.rev_total / x.users, 2), \\\n",
    "    ARPPU=lambda x: round(x.rev_total / x.clients, 2))\n",
    "    \n",
    "    return {'metrics': metrics, 'df': updated_df}"
   ]
  },
  {
   "cell_type": "markdown",
   "metadata": {},
   "source": [
    "Проверим корректность работы функции, запустив ее без передачи groups_extra_link, active_studs_extra_link, checks_extra_link"
   ]
  },
  {
   "cell_type": "code",
   "execution_count": 126,
   "metadata": {},
   "outputs": [
    {
     "data": {
      "text/html": [
       "<div>\n",
       "<style scoped>\n",
       "    .dataframe tbody tr th:only-of-type {\n",
       "        vertical-align: middle;\n",
       "    }\n",
       "\n",
       "    .dataframe tbody tr th {\n",
       "        vertical-align: top;\n",
       "    }\n",
       "\n",
       "    .dataframe thead th {\n",
       "        text-align: right;\n",
       "    }\n",
       "</style>\n",
       "<table border=\"1\" class=\"dataframe\">\n",
       "  <thead>\n",
       "    <tr style=\"text-align: right;\">\n",
       "      <th></th>\n",
       "      <th>grp</th>\n",
       "      <th>users</th>\n",
       "      <th>clients</th>\n",
       "      <th>rev_total</th>\n",
       "      <th>CR</th>\n",
       "      <th>ARPU</th>\n",
       "      <th>ARPPU</th>\n",
       "    </tr>\n",
       "  </thead>\n",
       "  <tbody>\n",
       "    <tr>\n",
       "      <th>0</th>\n",
       "      <td>A</td>\n",
       "      <td>1538</td>\n",
       "      <td>78</td>\n",
       "      <td>72820.0000</td>\n",
       "      <td>0.0507</td>\n",
       "      <td>47.35</td>\n",
       "      <td>933.59</td>\n",
       "    </tr>\n",
       "    <tr>\n",
       "      <th>1</th>\n",
       "      <td>B</td>\n",
       "      <td>6803</td>\n",
       "      <td>314</td>\n",
       "      <td>394974.0035</td>\n",
       "      <td>0.0462</td>\n",
       "      <td>58.06</td>\n",
       "      <td>1257.88</td>\n",
       "    </tr>\n",
       "  </tbody>\n",
       "</table>\n",
       "</div>"
      ],
      "text/plain": [
       "  grp  users  clients    rev_total      CR   ARPU    ARPPU\n",
       "0   A   1538       78   72820.0000  0.0507  47.35   933.59\n",
       "1   B   6803      314  394974.0035  0.0462  58.06  1257.88"
      ]
     },
     "execution_count": 126,
     "metadata": {},
     "output_type": "execute_result"
    }
   ],
   "source": [
    "result  = func_add(groups_all)\n",
    "result['metrics']"
   ]
  },
  {
   "cell_type": "markdown",
   "metadata": {},
   "source": [
    "Реализация функции, которая будет строить графики по получаемым метрикам."
   ]
  },
  {
   "cell_type": "code",
   "execution_count": 127,
   "metadata": {},
   "outputs": [],
   "source": [
    "# В качестве аргументов необходимо передать результаты работы функции func_add\n",
    "\n",
    "def viz(df, metrics):\n",
    "    sns.set(font_scale=1.8, rc={'figure.figsize':(28, 14)})    \n",
    "    f, axes = plt.subplots(2, 2)\n",
    "    \n",
    "    # Первая диаграмма\n",
    "    sns.histplot(data=df.dropna().query('status==\"active\"'), x=\"rev\", hue=\"grp\", bins=30, ax=axes[0, 0])\n",
    "    axes[0, 0].set(title='ARPPU')\n",
    "    for name_group in df.grp.unique():\n",
    "        color = 'blue' if name_group == 'A' else 'red'\n",
    "        g_mean = df.dropna().query('status == \"active\" & grp == @name_group').rev.mean()\n",
    "        axes[0, 0].axvline(g_mean, ls='--', color=color, label=f'{name_group} mean: {g_mean:.2f}')\n",
    "    axes[0, 0].legend()     \n",
    "    \n",
    "    # Вторая диаграмма\n",
    "    sns.histplot(data=df.fillna(0).query('status==\"active\"'), x=\"rev\", hue=\"grp\", bins=30, ax=axes[0, 1])\n",
    "    axes[0, 1].set(title='ARPU')\n",
    "    for name_group in df.grp.unique():\n",
    "        color = 'blue' if name_group == 'A' else 'red'\n",
    "        g_mean = df.fillna(0).query('status == \"active\" & grp == @name_group').rev.mean()\n",
    "        axes[0, 1].axvline(g_mean, ls='--', color=color, label=f'{name_group} mean: {g_mean:.2f}')\n",
    "    axes[0, 1].legend()    \n",
    "    \n",
    "    # Третья диаграмма\n",
    "    sns.boxplot(data=df.dropna().query(\"status == 'active'\"), x='rev', y='grp', ax=axes[1, 0])\n",
    "    axes[1, 0].set(title =\"Boxplot for paying users\") \n",
    "    \n",
    "    # Четвертая диаграмма    \n",
    "    sns.countplot(data=df.query(\"status == 'active'\"), y='grp', ax=axes[1, 1], color='lightgrey', label='Users')\n",
    "    sns.countplot(data=df.dropna().query(\"status == 'active'\"), y='grp', color='seagreen', ax=axes[1, 1], label='Customers')\n",
    "    for name_group in df.grp.unique():\n",
    "        CR = df.query(\"status == 'active' & grp == @name_group\").rev.apply(lambda x: 1 if x > 0 else 0).mean()*100\n",
    "        axes[1, 1].axvline(ls='None', label=f'{name_group} CR: {CR:.2f}%')\n",
    "    axes[1, 1].legend() \n",
    "    axes[1, 1].set(title='Users & customers: CR')\n",
    "    plt.tight_layout()"
   ]
  },
  {
   "cell_type": "markdown",
   "metadata": {},
   "source": [
    "Проверим корректность работы функции."
   ]
  },
  {
   "cell_type": "code",
   "execution_count": 128,
   "metadata": {},
   "outputs": [
    {
     "data": {
      "image/png": "[encoded data removed]",
      "text/plain": [
       "<Figure size 2016x1008 with 4 Axes>"
      ]
     },
     "metadata": {},
     "output_type": "display_data"
    }
   ],
   "source": [
    "viz(result['df'], result['metrics'])"
   ]
  }
 ],
 "metadata": {
  "kernelspec": {
   "display_name": "Python 3 (ipykernel)",
   "language": "python",
   "name": "python3"
  },
  "language_info": {
   "codemirror_mode": {
    "name": "ipython",
    "version": 3
   },
   "file_extension": ".py",
   "mimetype": "text/x-python",
   "name": "python",
   "nbconvert_exporter": "python",
   "pygments_lexer": "ipython3",
   "version": "3.9.12"
  }
 },
 "nbformat": 4,
 "nbformat_minor": 4
}
